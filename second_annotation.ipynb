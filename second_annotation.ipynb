{
 "cells": [
  {
   "cell_type": "code",
   "execution_count": 1,
   "id": "d5b007bf",
   "metadata": {},
   "outputs": [
    {
     "data": {
      "application/vnd.jupyter.widget-view+json": {
       "model_id": "e0eb286ebf554653b84da20687b98e55",
       "version_major": 2,
       "version_minor": 0
      },
      "text/plain": [
       "HTML(value=\"<h1 style='text-align:center'>t &nbsp; <span style=        'color:#36a849'>o</span> &nbsp; r &nbsp…"
      ]
     },
     "metadata": {},
     "output_type": "display_data"
    },
    {
     "data": {
      "application/vnd.jupyter.widget-view+json": {
       "model_id": "051eb08a4ff6458f919f2f0488b2b5e1",
       "version_major": 2,
       "version_minor": 0
      },
      "text/plain": [
       "HTML(value=\"<h3 style='text-align:center'>        easy text annotation in a Jupyter Notebook</h3>\")"
      ]
     },
     "metadata": {},
     "output_type": "display_data"
    }
   ],
   "source": [
    "from tortus import Tortus\n",
    "import pandas as pd\n",
    "import os"
   ]
  },
  {
   "cell_type": "code",
   "execution_count": 2,
   "id": "6c62d027",
   "metadata": {},
   "outputs": [],
   "source": [
    "def annotate_tweets(path, text_column = \"annotate_text\", num_records=100, prev_annotations = None, additional_labels = []):\n",
    "    df = pd.read_csv(path)\n",
    "    output_path = create_path(path, \"second_annotation\", True)\n",
    "    \n",
    "    if os.path.exists(output_path):\n",
    "        print(f\"Annotations already exist for: {output_path}, adding to these annotations\")\n",
    "        prev_annotations = pd.read_csv(output_path, index_col = \"Unnamed: 0\")\n",
    "        \n",
    "    tortus = Tortus(df, \"annotate_text\", num_records=num_records, annotations=prev_annotations, labels=[\"full_standard_english\", \"not-syntactic_standard_english\", \"non_standard_english\", \"code-switched\", \"some_english\", \"not_english\"] + additional_labels, id_column = \"id_column\")\n",
    "    tortus.annotate()\n",
    "    return tortus\n",
    "\n",
    "def create_path(path, new_first_dir_name, makedirs = False):\n",
    "    temp_path_list = os.path.dirname(path).split('/')\n",
    "    temp_path_list[0] = new_first_dir_name\n",
    "    outdirs = '/'.join(temp_path_list)\n",
    "    basename = os.path.basename(path)\n",
    "    if makedirs:\n",
    "        os.makedirs(outdirs, exist_ok = True)\n",
    "    return os.path.join(outdirs, basename)\n",
    "\n",
    "def merge_and_save_annotations(tortus, first_annotation_path):\n",
    "    \n",
    "    first_annotation = pd.read_csv(first_annotation_path, index_col = \"Unnamed: 0\")\n",
    "    first_annotation = first_annotation.rename(columns = {'label': 'label_1', 'annotated_at': 'annotated_at_1'})\n",
    "    \n",
    "    second_annotation = tortus.annotations\n",
    "    second_annotation.to_csv(create_path(first_annotation_path, \"second_annotation\", True))\n",
    "    second_annotation = second_annotation.rename(columns = {'label': 'label_2', 'annotated_at': 'annotated_at_2'})\n",
    "\n",
    "    original = pd.read_csv(create_path(first_annotation_path, \"data\"), index_col = \"Unnamed: 0\")\n",
    "    \n",
    "    merged = first_annotation.merge(original, how = \"left\", left_on = \"id_column\", right_on = \"id\")\n",
    "    merged = merged.merge(second_annotation, how = \"left\", on = \"id_column\")\n",
    "    merged = merged[[\"id_column\", \"rawContent\",\"cleaned_content\", \"label_1\", \"label_2\", \"english_relative_frequency\", \"date\", \"annotated_at_1\", \"annotated_at_2\"]]\n",
    "    merged.to_csv(create_path(first_annotation_path, \"complete_annotation\", True))\n",
    "    \n",
    "    return merged"
   ]
  },
  {
   "cell_type": "code",
   "execution_count": 3,
   "id": "a8e3a57d",
   "metadata": {},
   "outputs": [
    {
     "data": {
      "application/vnd.jupyter.widget-view+json": {
       "model_id": "06e9762edaf74fc5a36d09763501daeb",
       "version_major": 2,
       "version_minor": 0
      },
      "text/plain": [
       "HBox(children=(HTML(value='<h1>t &nbsp; <span style=\"color:#36a849\">o</span>             &nbsp; r &nbsp; t &nb…"
      ]
     },
     "metadata": {},
     "output_type": "display_data"
    },
    {
     "data": {
      "application/vnd.jupyter.widget-view+json": {
       "model_id": "4477843b4dd749adbfc98cfe4e8db696",
       "version_major": 2,
       "version_minor": 0
      },
      "text/plain": [
       "HTML(value='Click on the label corresponding with the text below. Each selection requires                 conf…"
      ]
     },
     "metadata": {},
     "output_type": "display_data"
    },
    {
     "data": {
      "application/vnd.jupyter.widget-view+json": {
       "model_id": "cd40a16f300245c2954c5cbd3f6535f6",
       "version_major": 2,
       "version_minor": 0
      },
      "text/plain": [
       "HTML(value='<h4><b>Raw:</b> Mas maganda pa din yung CLASSY  at Quality tweets nababasa under our tags kesa HAT…"
      ]
     },
     "metadata": {},
     "output_type": "display_data"
    },
    {
     "data": {
      "application/vnd.jupyter.widget-view+json": {
       "model_id": "90644237952947a6b1f514b892837e5a",
       "version_major": 2,
       "version_minor": 0
      },
      "text/plain": [
       "GridBox(children=(VBox(children=(Box(children=(Button(description='full_standard_english', layout=Layout(borde…"
      ]
     },
     "metadata": {},
     "output_type": "display_data"
    },
    {
     "data": {
      "application/vnd.jupyter.widget-view+json": {
       "model_id": "0059dfb1ebc44a68be4bae88fca712d1",
       "version_major": 2,
       "version_minor": 0
      },
      "text/plain": [
       "Output()"
      ]
     },
     "metadata": {},
     "output_type": "display_data"
    }
   ],
   "source": [
    "first_annotation_path = \"first_annotation/Singapore/tweets_over_period/24400_tweets_over_period/0.7_to_0.8_english_words.csv\"\n",
    "tortus = annotate_tweets(first_annotation_path, num_records = 10)"
   ]
  },
  {
   "cell_type": "code",
   "execution_count": 109,
   "id": "d7447895",
   "metadata": {},
   "outputs": [
    {
     "data": {
      "text/html": [
       "<div>\n",
       "<style scoped>\n",
       "    .dataframe tbody tr th:only-of-type {\n",
       "        vertical-align: middle;\n",
       "    }\n",
       "\n",
       "    .dataframe tbody tr th {\n",
       "        vertical-align: top;\n",
       "    }\n",
       "\n",
       "    .dataframe thead th {\n",
       "        text-align: right;\n",
       "    }\n",
       "</style>\n",
       "<table border=\"1\" class=\"dataframe\">\n",
       "  <thead>\n",
       "    <tr style=\"text-align: right;\">\n",
       "      <th></th>\n",
       "      <th>id_column</th>\n",
       "      <th>rawContent</th>\n",
       "      <th>cleaned_content</th>\n",
       "      <th>label_1</th>\n",
       "      <th>label_2</th>\n",
       "      <th>english_relative_frequency</th>\n",
       "      <th>date</th>\n",
       "      <th>annotated_at_1</th>\n",
       "      <th>annotated_at_2</th>\n",
       "    </tr>\n",
       "  </thead>\n",
       "  <tbody>\n",
       "    <tr>\n",
       "      <th>0</th>\n",
       "      <td>22605</td>\n",
       "      <td>@9NewsSyd @cokeefe9 Ooooh another Qantas PR “l...</td>\n",
       "      <td>ooooh another qantas pr look over there moment...</td>\n",
       "      <td>full_standard_english</td>\n",
       "      <td>full_standard_english</td>\n",
       "      <td>0.785714</td>\n",
       "      <td>2022-08-16 23:52:19+00:00</td>\n",
       "      <td>2022-11-17 15:07:11</td>\n",
       "      <td>2022-11-17 15:08:04</td>\n",
       "    </tr>\n",
       "    <tr>\n",
       "      <th>1</th>\n",
       "      <td>9954</td>\n",
       "      <td>I'm at Oasis Primary School in Damai, Punggol ...</td>\n",
       "      <td>im at oasis primary school in damai punggol</td>\n",
       "      <td>full_standard_english</td>\n",
       "      <td>full_standard_english</td>\n",
       "      <td>0.750000</td>\n",
       "      <td>2022-04-11 23:15:34+00:00</td>\n",
       "      <td>2022-11-17 15:07:13</td>\n",
       "      <td>2022-11-17 15:08:05</td>\n",
       "    </tr>\n",
       "    <tr>\n",
       "      <th>2</th>\n",
       "      <td>2576</td>\n",
       "      <td>@YouTube @marionskitchen 's XO sauce recipe</td>\n",
       "      <td>s xo sauce recipe</td>\n",
       "      <td>full_standard_english</td>\n",
       "      <td>full_standard_english</td>\n",
       "      <td>0.750000</td>\n",
       "      <td>2022-01-27 22:18:21+00:00</td>\n",
       "      <td>2022-11-17 15:07:14</td>\n",
       "      <td>2022-11-17 15:08:02</td>\n",
       "    </tr>\n",
       "  </tbody>\n",
       "</table>\n",
       "</div>"
      ],
      "text/plain": [
       "  id_column                                         rawContent  \\\n",
       "0     22605  @9NewsSyd @cokeefe9 Ooooh another Qantas PR “l...   \n",
       "1      9954  I'm at Oasis Primary School in Damai, Punggol ...   \n",
       "2      2576        @YouTube @marionskitchen 's XO sauce recipe   \n",
       "\n",
       "                                     cleaned_content                label_1  \\\n",
       "0  ooooh another qantas pr look over there moment...  full_standard_english   \n",
       "1        im at oasis primary school in damai punggol  full_standard_english   \n",
       "2                                  s xo sauce recipe  full_standard_english   \n",
       "\n",
       "                 label_2  english_relative_frequency  \\\n",
       "0  full_standard_english                    0.785714   \n",
       "1  full_standard_english                    0.750000   \n",
       "2  full_standard_english                    0.750000   \n",
       "\n",
       "                        date       annotated_at_1      annotated_at_2  \n",
       "0  2022-08-16 23:52:19+00:00  2022-11-17 15:07:11 2022-11-17 15:08:04  \n",
       "1  2022-04-11 23:15:34+00:00  2022-11-17 15:07:13 2022-11-17 15:08:05  \n",
       "2  2022-01-27 22:18:21+00:00  2022-11-17 15:07:14 2022-11-17 15:08:02  "
      ]
     },
     "execution_count": 109,
     "metadata": {},
     "output_type": "execute_result"
    }
   ],
   "source": [
    "output_df = merge_and_save_annotations(tortus, first_annotation_path)"
   ]
  },
  {
   "cell_type": "code",
   "execution_count": null,
   "id": "bb46126a",
   "metadata": {},
   "outputs": [],
   "source": []
  }
 ],
 "metadata": {
  "kernelspec": {
   "display_name": "Python 3",
   "language": "python",
   "name": "python3"
  },
  "language_info": {
   "codemirror_mode": {
    "name": "ipython",
    "version": 3
   },
   "file_extension": ".py",
   "mimetype": "text/x-python",
   "name": "python",
   "nbconvert_exporter": "python",
   "pygments_lexer": "ipython3",
   "version": "3.8.8"
  }
 },
 "nbformat": 4,
 "nbformat_minor": 5
}
