{
 "cells": [
  {
   "cell_type": "code",
   "execution_count": 91,
   "id": "d5b007bf",
   "metadata": {},
   "outputs": [],
   "source": [
    "from tortus import Tortus\n",
    "import pandas as pd\n",
    "import os"
   ]
  },
  {
   "cell_type": "code",
   "execution_count": 99,
   "id": "6c62d027",
   "metadata": {},
   "outputs": [],
   "source": [
    "def annotate_tweets(path, text_column = \"annotate_text\", num_records=100, prev_annotations = None, additional_labels = []):\n",
    "    df = pd.read_csv(path)\n",
    "    output_path = create_path(path, \"second_annotation\", True)\n",
    "    \n",
    "    if os.path.exists(output_path):\n",
    "        print(f\"Annotations already exist for: {output_path}, adding to these annotations\")\n",
    "        prev_annotations = pd.read_csv(output_path, index_col = \"Unnamed: 0\")\n",
    "        \n",
    "    tortus = Tortus(df, \"annotate_text\", num_records=num_records, annotations=prev_annotations, labels=[\"full_standard_english\", \"not-syntactic_standard_english\", \"non_standard_english\", \"code-switched\", \"some_english\", \"not_english\"] + additional_labels, id_column = \"id_column\")\n",
    "    tortus.annotate()\n",
    "    return tortus\n",
    "\n",
    "def create_path(path, new_first_dir_name, makedirs = False):\n",
    "    temp_path_list = os.path.dirname(path).split('/')\n",
    "    temp_path_list[0] = new_first_dir_name\n",
    "    outdirs = '/'.join(temp_path_list)\n",
    "    basename = os.path.basename(path)\n",
    "    if makedirs:\n",
    "        os.makedirs(outdirs, exist_ok = True)\n",
    "    return os.path.join(outdirs, basename)\n",
    "\n",
    "def merge_and_save_annotations(tortus, first_annotation_path):\n",
    "    \n",
    "    first_annotation = pd.read_csv(first_annotation_path, index_col = \"Unnamed: 0\")\n",
    "    first_annotation = first_annotation.rename(columns = {'label': 'label_1', 'annotated_at': 'annotated_at_1'})\n",
    "    \n",
    "    second_annotation = tortus.annotations\n",
    "    second_annotation.to_csv(create_path(first_annotation_path, \"second_annotation\", True))\n",
    "    second_annotation = second_annotation.rename(columns = {'label': 'label_2', 'annotated_at': 'annotated_at_2'})\n",
    "\n",
    "    original = pd.read_csv(create_path(first_annotation_path, \"data\"), index_col = \"Unnamed: 0\")\n",
    "    \n",
    "    merged = first_annotation.merge(original, how = \"left\", left_on = \"id_column\", right_index = True)\n",
    "    merged = merged.merge(second_annotation, how = \"left\", on = \"id_column\")\n",
    "    merged = merged[[\"id_column\", \"rawContent\",\"cleaned_content\", \"label_1\", \"label_2\", \"english_relative_frequency\", \"date\", \"annotated_at_1\", \"annotated_at_2\"]]\n",
    "    merged.to_csv(create_path(first_annotation_path, \"complete_annotation\", True))\n",
    "    \n",
    "    return merged"
   ]
  },
  {
   "cell_type": "code",
   "execution_count": 100,
   "id": "a8e3a57d",
   "metadata": {},
   "outputs": [
    {
     "data": {
      "application/vnd.jupyter.widget-view+json": {
       "model_id": "196f6367a9d5494b8c09ecb42c215a61",
       "version_major": 2,
       "version_minor": 0
      },
      "text/plain": [
       "HBox(children=(Image(value=b'\\x89PNG\\r\\n\\x1a\\n\\x00\\x00\\x00\\rIHDR\\x00\\x00#0\\x00\\x00\\x06\\xc4\\x08\\x06\\x00\\x00\\x00…"
      ]
     },
     "metadata": {},
     "output_type": "display_data"
    },
    {
     "data": {
      "application/vnd.jupyter.widget-view+json": {
       "model_id": "0c6ca8443b5c4b988a980b2fff66e68c",
       "version_major": 2,
       "version_minor": 0
      },
      "text/plain": [
       "Output()"
      ]
     },
     "metadata": {},
     "output_type": "display_data"
    }
   ],
   "source": [
    "first_annotation_path = \"first_annotation/Singapore/tweets_over_period/24400_tweets_over_period/0.7_to_0.8_english_words.csv\"\n",
    "tortus = annotate_tweets(first_annotation_path, num_records = 1)"
   ]
  },
  {
   "cell_type": "code",
   "execution_count": 101,
   "id": "d7447895",
   "metadata": {},
   "outputs": [
    {
     "data": {
      "text/html": [
       "<div>\n",
       "<style scoped>\n",
       "    .dataframe tbody tr th:only-of-type {\n",
       "        vertical-align: middle;\n",
       "    }\n",
       "\n",
       "    .dataframe tbody tr th {\n",
       "        vertical-align: top;\n",
       "    }\n",
       "\n",
       "    .dataframe thead th {\n",
       "        text-align: right;\n",
       "    }\n",
       "</style>\n",
       "<table border=\"1\" class=\"dataframe\">\n",
       "  <thead>\n",
       "    <tr style=\"text-align: right;\">\n",
       "      <th></th>\n",
       "      <th>id_column</th>\n",
       "      <th>rawContent</th>\n",
       "      <th>cleaned_content</th>\n",
       "      <th>label_1</th>\n",
       "      <th>label_2</th>\n",
       "      <th>english_relative_frequency</th>\n",
       "      <th>date</th>\n",
       "      <th>annotated_at_1</th>\n",
       "      <th>annotated_at_2</th>\n",
       "    </tr>\n",
       "  </thead>\n",
       "  <tbody>\n",
       "    <tr>\n",
       "      <th>0</th>\n",
       "      <td>3589</td>\n",
       "      <td>NaN</td>\n",
       "      <td>NaN</td>\n",
       "      <td>full_standard_english</td>\n",
       "      <td>NaN</td>\n",
       "      <td>NaN</td>\n",
       "      <td>NaN</td>\n",
       "      <td>2022-11-17 15:04:27</td>\n",
       "      <td>NaT</td>\n",
       "    </tr>\n",
       "    <tr>\n",
       "      <th>1</th>\n",
       "      <td>20614</td>\n",
       "      <td>NaN</td>\n",
       "      <td>NaN</td>\n",
       "      <td>full_standard_english</td>\n",
       "      <td>NaN</td>\n",
       "      <td>NaN</td>\n",
       "      <td>NaN</td>\n",
       "      <td>2022-11-17 15:04:28</td>\n",
       "      <td>NaT</td>\n",
       "    </tr>\n",
       "    <tr>\n",
       "      <th>2</th>\n",
       "      <td>17487</td>\n",
       "      <td>NaN</td>\n",
       "      <td>NaN</td>\n",
       "      <td>full_standard_english</td>\n",
       "      <td>full_standard_english</td>\n",
       "      <td>NaN</td>\n",
       "      <td>NaN</td>\n",
       "      <td>2022-11-17 15:04:29</td>\n",
       "      <td>2022-11-17 15:04:47</td>\n",
       "    </tr>\n",
       "  </tbody>\n",
       "</table>\n",
       "</div>"
      ],
      "text/plain": [
       "  id_column rawContent cleaned_content                label_1  \\\n",
       "0      3589        NaN             NaN  full_standard_english   \n",
       "1     20614        NaN             NaN  full_standard_english   \n",
       "2     17487        NaN             NaN  full_standard_english   \n",
       "\n",
       "                 label_2  english_relative_frequency date  \\\n",
       "0                    NaN                         NaN  NaN   \n",
       "1                    NaN                         NaN  NaN   \n",
       "2  full_standard_english                         NaN  NaN   \n",
       "\n",
       "        annotated_at_1      annotated_at_2  \n",
       "0  2022-11-17 15:04:27                 NaT  \n",
       "1  2022-11-17 15:04:28                 NaT  \n",
       "2  2022-11-17 15:04:29 2022-11-17 15:04:47  "
      ]
     },
     "execution_count": 101,
     "metadata": {},
     "output_type": "execute_result"
    }
   ],
   "source": [
    "merge_and_save_annotations(tortus, first_annotation_path)"
   ]
  },
  {
   "cell_type": "code",
   "execution_count": null,
   "id": "bb46126a",
   "metadata": {},
   "outputs": [],
   "source": []
  }
 ],
 "metadata": {
  "kernelspec": {
   "display_name": "Python 3 (ipykernel)",
   "language": "python",
   "name": "python3"
  },
  "language_info": {
   "codemirror_mode": {
    "name": "ipython",
    "version": 3
   },
   "file_extension": ".py",
   "mimetype": "text/x-python",
   "name": "python",
   "nbconvert_exporter": "python",
   "pygments_lexer": "ipython3",
   "version": "3.10.0"
  }
 },
 "nbformat": 4,
 "nbformat_minor": 5
}
