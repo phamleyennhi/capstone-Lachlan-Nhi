{
 "cells": [
  {
   "cell_type": "code",
   "execution_count": 2,
   "id": "4fd750cf",
   "metadata": {},
   "outputs": [],
   "source": [
    "import pandas as pd\n",
    "import seaborn as sns\n",
    "df = pd.read_csv('first_annotation/Singapore/tweets_over_period/24400_tweets_over_period/0.8_to_0.9_english_words.csv', index_col = 'Unnamed: 0')"
   ]
  },
  {
   "cell_type": "code",
   "execution_count": 3,
   "id": "14cd3aef",
   "metadata": {
    "scrolled": true
   },
   "outputs": [
    {
     "data": {
      "text/html": [
       "<div>\n",
       "<style scoped>\n",
       "    .dataframe tbody tr th:only-of-type {\n",
       "        vertical-align: middle;\n",
       "    }\n",
       "\n",
       "    .dataframe tbody tr th {\n",
       "        vertical-align: top;\n",
       "    }\n",
       "\n",
       "    .dataframe thead th {\n",
       "        text-align: right;\n",
       "    }\n",
       "</style>\n",
       "<table border=\"1\" class=\"dataframe\">\n",
       "  <thead>\n",
       "    <tr style=\"text-align: right;\">\n",
       "      <th></th>\n",
       "      <th>id_column</th>\n",
       "      <th>annotate_text</th>\n",
       "      <th>label</th>\n",
       "      <th>annotated_at</th>\n",
       "      <th>encoded</th>\n",
       "    </tr>\n",
       "  </thead>\n",
       "  <tbody>\n",
       "    <tr>\n",
       "      <th>0</th>\n",
       "      <td>6948</td>\n",
       "      <td>&lt;b&gt;Raw:&lt;/b&gt; Have time that I just work for the...</td>\n",
       "      <td>code-switched</td>\n",
       "      <td>2022-11-18 12:28:22</td>\n",
       "      <td>3.0</td>\n",
       "    </tr>\n",
       "    <tr>\n",
       "      <th>1</th>\n",
       "      <td>14215</td>\n",
       "      <td>&lt;b&gt;Raw:&lt;/b&gt; Good MEWning to this person who ma...</td>\n",
       "      <td>non_standard_english</td>\n",
       "      <td>2022-11-18 12:28:27</td>\n",
       "      <td>4.0</td>\n",
       "    </tr>\n",
       "    <tr>\n",
       "      <th>2</th>\n",
       "      <td>21662</td>\n",
       "      <td>&lt;b&gt;Raw:&lt;/b&gt; StarMagicBeyondTheStars happening ...</td>\n",
       "      <td>full_standard_english</td>\n",
       "      <td>2022-11-18 12:28:35</td>\n",
       "      <td>6.0</td>\n",
       "    </tr>\n",
       "    <tr>\n",
       "      <th>3</th>\n",
       "      <td>6760</td>\n",
       "      <td>&lt;b&gt;Raw:&lt;/b&gt; Please go vot for L,he currently r...</td>\n",
       "      <td>non_standard_english</td>\n",
       "      <td>2022-11-18 12:28:41</td>\n",
       "      <td>4.0</td>\n",
       "    </tr>\n",
       "    <tr>\n",
       "      <th>4</th>\n",
       "      <td>23932</td>\n",
       "      <td>&lt;b&gt;Raw:&lt;/b&gt; John\\nPallelai  bedokwalk no 49.mi...</td>\n",
       "      <td>not-syntactic_standard_english</td>\n",
       "      <td>2022-11-18 12:29:01</td>\n",
       "      <td>5.0</td>\n",
       "    </tr>\n",
       "    <tr>\n",
       "      <th>...</th>\n",
       "      <td>...</td>\n",
       "      <td>...</td>\n",
       "      <td>...</td>\n",
       "      <td>...</td>\n",
       "      <td>...</td>\n",
       "    </tr>\n",
       "    <tr>\n",
       "      <th>295</th>\n",
       "      <td>18903</td>\n",
       "      <td>&lt;b&gt;Raw:&lt;/b&gt; John\\nPallelai bedokwalk no49.miss...</td>\n",
       "      <td>NaN</td>\n",
       "      <td>2022-11-18 13:57:18</td>\n",
       "      <td>NaN</td>\n",
       "    </tr>\n",
       "    <tr>\n",
       "      <th>296</th>\n",
       "      <td>20710</td>\n",
       "      <td>&lt;b&gt;Raw:&lt;/b&gt; John\\nPallelai bedokwalk no49.miss...</td>\n",
       "      <td>NaN</td>\n",
       "      <td>2022-11-18 13:57:21</td>\n",
       "      <td>NaN</td>\n",
       "    </tr>\n",
       "    <tr>\n",
       "      <th>297</th>\n",
       "      <td>14738</td>\n",
       "      <td>&lt;b&gt;Raw:&lt;/b&gt; John\\nPallelai bedokwalk no 49.mis...</td>\n",
       "      <td>NaN</td>\n",
       "      <td>2022-11-18 13:57:23</td>\n",
       "      <td>NaN</td>\n",
       "    </tr>\n",
       "    <tr>\n",
       "      <th>298</th>\n",
       "      <td>21858</td>\n",
       "      <td>&lt;b&gt;Raw:&lt;/b&gt; John\\nPallelai bedojwalk no49.miss...</td>\n",
       "      <td>NaN</td>\n",
       "      <td>2022-11-18 13:57:25</td>\n",
       "      <td>NaN</td>\n",
       "    </tr>\n",
       "    <tr>\n",
       "      <th>299</th>\n",
       "      <td>23532</td>\n",
       "      <td>&lt;b&gt;Raw:&lt;/b&gt; forget jetlag, my body is not read...</td>\n",
       "      <td>non_standard_english</td>\n",
       "      <td>2022-11-18 13:59:56</td>\n",
       "      <td>4.0</td>\n",
       "    </tr>\n",
       "  </tbody>\n",
       "</table>\n",
       "<p>300 rows × 5 columns</p>\n",
       "</div>"
      ],
      "text/plain": [
       "     id_column                                      annotate_text  \\\n",
       "0         6948  <b>Raw:</b> Have time that I just work for the...   \n",
       "1        14215  <b>Raw:</b> Good MEWning to this person who ma...   \n",
       "2        21662  <b>Raw:</b> StarMagicBeyondTheStars happening ...   \n",
       "3         6760  <b>Raw:</b> Please go vot for L,he currently r...   \n",
       "4        23932  <b>Raw:</b> John\\nPallelai  bedokwalk no 49.mi...   \n",
       "..         ...                                                ...   \n",
       "295      18903  <b>Raw:</b> John\\nPallelai bedokwalk no49.miss...   \n",
       "296      20710  <b>Raw:</b> John\\nPallelai bedokwalk no49.miss...   \n",
       "297      14738  <b>Raw:</b> John\\nPallelai bedokwalk no 49.mis...   \n",
       "298      21858  <b>Raw:</b> John\\nPallelai bedojwalk no49.miss...   \n",
       "299      23532  <b>Raw:</b> forget jetlag, my body is not read...   \n",
       "\n",
       "                              label         annotated_at  encoded  \n",
       "0                     code-switched  2022-11-18 12:28:22      3.0  \n",
       "1              non_standard_english  2022-11-18 12:28:27      4.0  \n",
       "2             full_standard_english  2022-11-18 12:28:35      6.0  \n",
       "3              non_standard_english  2022-11-18 12:28:41      4.0  \n",
       "4    not-syntactic_standard_english  2022-11-18 12:29:01      5.0  \n",
       "..                              ...                  ...      ...  \n",
       "295                             NaN  2022-11-18 13:57:18      NaN  \n",
       "296                             NaN  2022-11-18 13:57:21      NaN  \n",
       "297                             NaN  2022-11-18 13:57:23      NaN  \n",
       "298                             NaN  2022-11-18 13:57:25      NaN  \n",
       "299            non_standard_english  2022-11-18 13:59:56      4.0  \n",
       "\n",
       "[300 rows x 5 columns]"
      ]
     },
     "execution_count": 3,
     "metadata": {},
     "output_type": "execute_result"
    }
   ],
   "source": [
    "encoding = {'full_standard_english': 6, 'not-syntactic_standard_english': 5, 'non_standard_english': 4, 'code-switched': 3, 'some_english': 2, 'not_english': 1}\n",
    "df['encoded'] = df['label'].map(encoding)\n",
    "df"
   ]
  },
  {
   "cell_type": "code",
   "execution_count": 4,
   "id": "ac703307",
   "metadata": {},
   "outputs": [
    {
     "data": {
      "text/plain": [
       "<AxesSubplot:xlabel='encoded', ylabel='count'>"
      ]
     },
     "execution_count": 4,
     "metadata": {},
     "output_type": "execute_result"
    },
    {
     "data": {
      "image/png": "[encoded data removed]",
      "text/plain": [
       "<Figure size 432x288 with 1 Axes>"
      ]
     },
     "metadata": {
      "needs_background": "light"
     },
     "output_type": "display_data"
    }
   ],
   "source": [
    "sns.countplot(x=df['encoded'])"
   ]
  },
  {
   "cell_type": "code",
   "execution_count": 5,
   "id": "852f16ff",
   "metadata": {},
   "outputs": [
    {
     "data": {
      "text/plain": [
       "(300, 5)"
      ]
     },
     "execution_count": 5,
     "metadata": {},
     "output_type": "execute_result"
    }
   ],
   "source": [
    "df.shape"
   ]
  },
  {
   "cell_type": "code",
   "execution_count": 7,
   "id": "cda43940",
   "metadata": {},
   "outputs": [
    {
     "data": {
      "text/plain": [
       "(200, 4)"
      ]
     },
     "execution_count": 7,
     "metadata": {},
     "output_type": "execute_result"
    }
   ],
   "source": [
    "d1 = pd.read_csv('first_annotation/Singapore/tweets_over_period/24400_tweets_over_period/0.7_to_0.8_english_words.csv', index_col = 'Unnamed: 0')\n",
    "d1.shape"
   ]
  },
  {
   "cell_type": "code",
   "execution_count": 9,
   "id": "8971fd3c",
   "metadata": {},
   "outputs": [
    {
     "data": {
      "text/plain": [
       "(1019, 6)"
      ]
     },
     "execution_count": 9,
     "metadata": {},
     "output_type": "execute_result"
    }
   ],
   "source": [
    "d2 = pd.read_csv(\"data/Singapore/tweets_over_period/24400_tweets_over_period/0.7_to_0.8_english_words.csv\")\n",
    "d2.shape"
   ]
  },
  {
   "cell_type": "code",
   "execution_count": null,
   "id": "ff70582e",
   "metadata": {},
   "outputs": [],
   "source": []
  }
 ],
 "metadata": {
  "kernelspec": {
   "display_name": "Python 3 (ipykernel)",
   "language": "python",
   "name": "python3"
  },
  "language_info": {
   "codemirror_mode": {
    "name": "ipython",
    "version": 3
   },
   "file_extension": ".py",
   "mimetype": "text/x-python",
   "name": "python",
   "nbconvert_exporter": "python",
   "pygments_lexer": "ipython3",
   "version": "3.10.0"
  }
 },
 "nbformat": 4,
 "nbformat_minor": 5
}
