{
 "cells": [
  {
   "cell_type": "code",
   "execution_count": 8,
   "id": "3cabb911",
   "metadata": {},
   "outputs": [
    {
     "data": {
      "text/plain": [
       "9223372036854775807"
      ]
     },
     "execution_count": 8,
     "metadata": {},
     "output_type": "execute_result"
    }
   ],
   "source": [
    "import pandas as pd\n",
    "from collections import Counter\n",
    "import nltk\n",
    "import numpy as np\n",
    "import csv\n",
    "import sys\n",
    "from nltk.stem import WordNetLemmatizer\n",
    "from nltk.corpus.util import LazyCorpusLoader\n",
    "from nltk.corpus.reader import *\n",
    "\n",
    "csv.field_size_limit(sys.maxsize)"
   ]
  },
  {
   "cell_type": "markdown",
   "id": "2b2161f7",
   "metadata": {},
   "source": [
    "## English words corpus\n",
    "##### This is a combined corpus of several existing English words corpora in NLTK. "
   ]
  },
  {
   "cell_type": "code",
   "execution_count": 14,
   "id": "0dac4540",
   "metadata": {},
   "outputs": [],
   "source": [
    "english_words_list = []\n",
    "\n",
    "with open('english_words_corpora/english_corpus.csv', 'r') as read_obj:\n",
    "    csv_reader = csv.reader(read_obj)\n",
    "    list_of_csv = list(csv_reader)\n",
    "    english_words_list = list_of_csv[0]      "
   ]
  },
  {
   "cell_type": "code",
   "execution_count": 15,
   "id": "bb963e07",
   "metadata": {},
   "outputs": [
    {
     "name": "stdout",
     "output_type": "stream",
     "text": [
      "280602\n",
      "True\n"
     ]
    }
   ],
   "source": [
    "english_words_set = set(english_words_list)\n",
    "print(len(english_words_set))\n",
    "lemmatizer = WordNetLemmatizer()\n",
    "print(\"sustainability\" in english_words_set)"
   ]
  },
  {
   "cell_type": "code",
   "execution_count": 16,
   "id": "1c9c0e0e",
   "metadata": {},
   "outputs": [],
   "source": [
    "def english_words_in_tweet(tweet):\n",
    "    return [lemmatizer.lemmatize(word) for word in str(tweet).split() if (word.isalpha() and lemmatizer.lemmatize(word) in english_words_set)]\n",
    "def generate_english_word_corpus(filename):\n",
    "    corpus = []\n",
    "    df = pd.read_csv(filename)\n",
    "    for index, row in df.iterrows():\n",
    "        corpus.extend([word for word in english_words_in_tweet(row[\"cleaned_content\"])])\n",
    "    return corpus"
   ]
  },
  {
   "cell_type": "code",
   "execution_count": 17,
   "id": "3671c14d",
   "metadata": {},
   "outputs": [],
   "source": [
    "def compare_relative_frequency(path_to_df1, path_to_df2):\n",
    "    tally1 = Counter(generate_english_word_corpus(path_to_df1))\n",
    "    tally2 = Counter(generate_english_word_corpus(path_to_df2))\n",
    "    \n",
    "    more_in_one = {}\n",
    "    for word in tally1:\n",
    "        if tally1.get(word) + tally2.get(word, 0) >= 20:\n",
    "            if word not in tally2:\n",
    "                more_in_one[word] = (tally1.get(word), 0, np.inf)\n",
    "            else:\n",
    "                if tally1.get(word)/tally2.get(word) > 1.5:\n",
    "                    more_in_one[word] = (tally1.get(word), tally2.get(word), tally1.get(word)/tally2.get(word))\n",
    "                \n",
    "    return more_in_one"
   ]
  },
  {
   "cell_type": "code",
   "execution_count": 18,
   "id": "d46ab53c",
   "metadata": {},
   "outputs": [],
   "source": [
    "file1 = \"data/Singapore/GenerateMostRecentTweets/tweets_over_period/24400_tweets_over_period.csv\"\n",
    "file2 = \"data/New York/3000_most_recent_tweets.csv\"\n",
    "compare = compare_relative_frequency(file1, file2)"
   ]
  },
  {
   "cell_type": "code",
   "execution_count": 19,
   "id": "d9bdcfc4",
   "metadata": {},
   "outputs": [
    {
     "data": {
      "text/plain": [
       "{'s': (99, 10, 9.9),\n",
       " 'wow': (19, 5, 3.8),\n",
       " 'amp': (77, 0, inf),\n",
       " 'hahaha': (22, 2, 11.0),\n",
       " 'c': (18, 5, 3.6),\n",
       " 'pm': (24, 3, 8.0),\n",
       " 'ya': (28, 13, 2.1538461538461537),\n",
       " 'dan': (29, 4, 7.25),\n",
       " 'je': (37, 1, 37.0),\n",
       " 'share': (22, 14, 1.5714285714285714),\n",
       " 'let': (42, 27, 1.5555555555555556),\n",
       " 'cute': (33, 1, 33.0),\n",
       " 'aku': (63, 4, 15.75),\n",
       " 't': (57, 4, 14.25),\n",
       " 'n': (27, 4, 6.75),\n",
       " 'join': (19, 9, 2.111111111111111),\n",
       " 'm': (35, 5, 7.0),\n",
       " 'dm': (14, 8, 1.75),\n",
       " 'di': (33, 4, 8.25),\n",
       " 'yang': (36, 2, 18.0),\n",
       " 'nak': (48, 0, inf),\n",
       " 'tak': (64, 0, inf),\n",
       " 'ada': (40, 4, 10.0),\n",
       " 'haha': (20, 3, 6.666666666666667),\n",
       " 'tapi': (30, 0, inf),\n",
       " 'dia': (21, 2, 10.5),\n",
       " 'dah': (25, 0, inf),\n",
       " 'ni': (58, 6, 9.666666666666666),\n",
       " 'signal': (26, 2, 13.0),\n",
       " 'singapore': (38, 0, inf),\n",
       " 'call': (17, 8, 2.125),\n",
       " 'na': (23, 6, 3.8333333333333335),\n",
       " 'tu': (25, 2, 12.5),\n",
       " 'mana': (34, 1, 34.0),\n",
       " 'open': (13, 8, 1.625),\n",
       " 'gt': (16, 5, 3.2)}"
      ]
     },
     "execution_count": 19,
     "metadata": {},
     "output_type": "execute_result"
    }
   ],
   "source": [
    "compare"
   ]
  },
  {
   "cell_type": "code",
   "execution_count": null,
   "id": "7b48b447",
   "metadata": {},
   "outputs": [],
   "source": []
  }
 ],
 "metadata": {
  "kernelspec": {
   "display_name": "Python 3",
   "language": "python",
   "name": "python3"
  },
  "language_info": {
   "codemirror_mode": {
    "name": "ipython",
    "version": 3
   },
   "file_extension": ".py",
   "mimetype": "text/x-python",
   "name": "python",
   "nbconvert_exporter": "python",
   "pygments_lexer": "ipython3",
   "version": "3.8.8"
  }
 },
 "nbformat": 4,
 "nbformat_minor": 5
}
