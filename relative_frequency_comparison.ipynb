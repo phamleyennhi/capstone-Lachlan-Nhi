{
 "cells": [
  {
   "cell_type": "code",
   "execution_count": 8,
   "id": "3cabb911",
   "metadata": {},
   "outputs": [],
   "source": [
    "import pandas as pd\n",
    "from collections import Counter\n",
    "import nltk\n",
    "import numpy as np\n",
    "stopwords = nltk.corpus.stopwords.words('english')\n",
    "english_words_set = set(nltk.corpus.words.words())\n",
    "from nltk.stem import WordNetLemmatizer\n",
    "lemmatizer = WordNetLemmatizer()"
   ]
  },
  {
   "cell_type": "code",
   "execution_count": 6,
   "id": "1c9c0e0e",
   "metadata": {},
   "outputs": [],
   "source": [
    "def english_words_in_tweet(tweet):\n",
    "    return [lemmatizer.lemmatize(word) for word in str(tweet).split() if (word.isalpha() and lemmatizer.lemmatize(word) in english_words_set)]\n",
    "def generate_english_word_corpus(filename):\n",
    "    corpus = []\n",
    "    df = pd.read_csv(filename)\n",
    "    for index, row in df.iterrows():\n",
    "        corpus.extend([word for word in english_words_in_tweet(row[\"cleaned_content\"])])\n",
    "    return corpus"
   ]
  },
  {
   "cell_type": "code",
   "execution_count": 16,
   "id": "3671c14d",
   "metadata": {},
   "outputs": [],
   "source": [
    "def compare_relative_frequency(path_to_df1, path_to_df2):\n",
    "    tally1 = Counter(generate_english_word_corpus(path_to_df1))\n",
    "    tally2 = Counter(generate_english_word_corpus(path_to_df2))\n",
    "    \n",
    "    more_in_one = {}\n",
    "    for word in tally1:\n",
    "        if tally1.get(word) + tally2.get(word, 0) >= 20:\n",
    "            if word not in tally2:\n",
    "                more_in_one[word] = (tally1.get(word), 0, np.inf)\n",
    "            else:\n",
    "                if tally1.get(word)/tally2.get(word) > 1.5:\n",
    "                    more_in_one[word] = (tally1.get(word), tally2.get(word), tally1.get(word)/tally2.get(word))\n",
    "                \n",
    "    return more_in_one\n",
    "\n",
    "    \n",
    "    "
   ]
  },
  {
   "cell_type": "code",
   "execution_count": 17,
   "id": "d46ab53c",
   "metadata": {},
   "outputs": [],
   "source": [
    "file1 = \"data/Singapore/GenerateMostRecentTweets/3000_most_recent_tweets.csv\"\n",
    "file2 = \"data/New York/3000_most_recent_tweets.csv\"\n",
    "compare = compare_relative_frequency(file1, file2)"
   ]
  },
  {
   "cell_type": "code",
   "execution_count": 18,
   "id": "d9bdcfc4",
   "metadata": {},
   "outputs": [
    {
     "data": {
      "text/plain": [
       "{'s': (99, 13, 7.615384615384615),\n",
       " 'wow': (19, 5, 3.8),\n",
       " 'c': (18, 5, 3.6),\n",
       " 'ya': (28, 13, 2.1538461538461537),\n",
       " 'dan': (29, 4, 7.25),\n",
       " 'share': (22, 14, 1.5714285714285714),\n",
       " 'let': (42, 27, 1.5555555555555556),\n",
       " 'cute': (33, 1, 33.0),\n",
       " 'aku': (63, 4, 15.75),\n",
       " 't': (57, 9, 6.333333333333333),\n",
       " 'n': (27, 5, 5.4),\n",
       " 'join': (19, 9, 2.111111111111111),\n",
       " 'm': (35, 7, 5.0),\n",
       " 'di': (33, 4, 8.25),\n",
       " 'yang': (36, 2, 18.0),\n",
       " 'nak': (48, 0, inf),\n",
       " 'dah': (25, 0, inf),\n",
       " 'ni': (58, 6, 9.666666666666666),\n",
       " 'signal': (26, 2, 13.0),\n",
       " 'call': (17, 8, 2.125),\n",
       " 'na': (23, 6, 3.8333333333333335),\n",
       " 'tu': (25, 2, 12.5),\n",
       " 'mana': (34, 1, 34.0),\n",
       " 'open': (13, 8, 1.625)}"
      ]
     },
     "execution_count": 18,
     "metadata": {},
     "output_type": "execute_result"
    }
   ],
   "source": [
    "compare"
   ]
  },
  {
   "cell_type": "code",
   "execution_count": null,
   "id": "7b48b447",
   "metadata": {},
   "outputs": [],
   "source": []
  }
 ],
 "metadata": {
  "kernelspec": {
   "display_name": "Python 3 (ipykernel)",
   "language": "python",
   "name": "python3"
  },
  "language_info": {
   "codemirror_mode": {
    "name": "ipython",
    "version": 3
   },
   "file_extension": ".py",
   "mimetype": "text/x-python",
   "name": "python",
   "nbconvert_exporter": "python",
   "pygments_lexer": "ipython3",
   "version": "3.10.0"
  }
 },
 "nbformat": 4,
 "nbformat_minor": 5
}
