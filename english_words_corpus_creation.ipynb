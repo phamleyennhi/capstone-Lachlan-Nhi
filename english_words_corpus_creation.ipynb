{
 "cells": [
  {
   "cell_type": "code",
   "execution_count": 84,
   "id": "dadaefed",
   "metadata": {},
   "outputs": [
    {
     "data": {
      "text/plain": [
       "9223372036854775807"
      ]
     },
     "execution_count": 84,
     "metadata": {},
     "output_type": "execute_result"
    }
   ],
   "source": [
    "import pandas as pd\n",
    "import nltk\n",
    "import csv\n",
    "import sys\n",
    "import os\n",
    "import string\n",
    "from nltk.corpus.util import LazyCorpusLoader\n",
    "from nltk.corpus.reader import *\n",
    "\n",
    "csv.field_size_limit(sys.maxsize)"
   ]
  },
  {
   "cell_type": "markdown",
   "id": "6c13a798",
   "metadata": {},
   "source": [
    "## Collect and preprocess existing English words corpora\n",
    "#### (Run once to save to CSV) This is a combined corpus of several existing English words corpora in NLTK (http://www.nltk.org/nltk_data/)\n",
    "\n",
    "1. wordnet2021\n",
    "2. masc_tagged\n",
    "3. English stopwords\n",
    "4. Word Lists "
   ]
  },
  {
   "cell_type": "code",
   "execution_count": null,
   "id": "09f1955b",
   "metadata": {},
   "outputs": [],
   "source": [
    "nltk.download(\"wordnet2021\")\n",
    "wordnet2021 = LazyCorpusLoader(\n",
    "    \"wordnet2021\",\n",
    "    WordNetCorpusReader,\n",
    "    LazyCorpusLoader(\"omw-1.4\", CorpusReader, r\".*/wn-data-.*\\.tab\", encoding=\"utf8\"),\n",
    ")\n",
    "# break down words e.g. heels_over_head since we do one word comparison\n",
    "processed_wordnet2021 = set()\n",
    "for word in wordnet2021.words():\n",
    "    processed_wordnet2021 = processed_wordnet2021.union(set(word.split(\"_\")))\n",
    "print(processed_wordnet2021)\n",
    "\n",
    "cw = csv.writer(open(\"english_words_corpora/wordnet2021.csv\",\"w\"))\n",
    "cw.writerow(processed_wordnet2021)"
   ]
  },
  {
   "cell_type": "code",
   "execution_count": 49,
   "id": "d806191c",
   "metadata": {},
   "outputs": [
    {
     "name": "stderr",
     "output_type": "stream",
     "text": [
      "[nltk_data] Downloading package masc_tagged to\n",
      "[nltk_data]     /Users/nhipham/nltk_data...\n",
      "[nltk_data]   Package masc_tagged is already up-to-date!\n"
     ]
    },
    {
     "data": {
      "text/plain": [
       "253823"
      ]
     },
     "execution_count": 49,
     "metadata": {},
     "output_type": "execute_result"
    }
   ],
   "source": [
    "nltk.download(\"masc_tagged\")\n",
    "masc_tagged = LazyCorpusLoader(\n",
    "    \"masc_tagged\",\n",
    "    CategorizedTaggedCorpusReader,\n",
    "    r\"(spoken|written)/.*\\.txt\",\n",
    "    cat_file=\"categories.txt\",\n",
    "    tagset=\"wsj\",\n",
    "    encoding=\"utf-8\",\n",
    "    sep=\"_\",\n",
    ")\n",
    "lowercase_masc_tagged = list(map(str.lower, masc_tagged.words()))\n",
    "processed_masc_tagged = set()\n",
    "\n",
    "# filter non-english words\n",
    "punctuation = list(string.punctuation)\n",
    "punctuation.remove('-')\n",
    "for word in lowercase_masc_tagged:\n",
    "    add_word = True\n",
    "    for p in punctuation:\n",
    "        if p in word:\n",
    "            add_word = False\n",
    "    for w in word:\n",
    "        if w.isdigit():\n",
    "            add_word = False\n",
    "    if word == '' or word[-1] == '-':\n",
    "        add_word = False\n",
    "    if add_word:\n",
    "        processed_masc_tagged.add(word)\n",
    "\n",
    "cw = csv.writer(open(\"english_words_corpora/masc_tagged.csv\",\"w\"))\n",
    "cw.writerow(processed_masc_tagged)"
   ]
  },
  {
   "cell_type": "code",
   "execution_count": 68,
   "id": "86a9bc0f",
   "metadata": {},
   "outputs": [
    {
     "data": {
      "text/plain": [
       "937"
      ]
     },
     "execution_count": 68,
     "metadata": {},
     "output_type": "execute_result"
    }
   ],
   "source": [
    "stopwords = nltk.corpus.stopwords.words('english')\n",
    "cw = csv.writer(open(\"english_words_corpora/en_stop_words.csv\",\"w\"))\n",
    "cw.writerow(set(stopwords))"
   ]
  },
  {
   "cell_type": "code",
   "execution_count": 73,
   "id": "7772d836",
   "metadata": {},
   "outputs": [
    {
     "data": {
      "text/plain": [
       "2482424"
      ]
     },
     "execution_count": 73,
     "metadata": {},
     "output_type": "execute_result"
    }
   ],
   "source": [
    "en_words_set = list(map(str.lower, nltk.corpus.words.words()))\n",
    "cw = csv.writer(open(\"english_words_corpora/en_words.csv\",\"w\"))\n",
    "cw.writerow(set(en_words_set))"
   ]
  },
  {
   "cell_type": "markdown",
   "id": "a75f2dc8",
   "metadata": {},
   "source": [
    "## Generate English words corpus\n",
    "1. wordnet2021\n",
    "2. masc_tagged\n",
    "3. English stopwords\n",
    "4. Word Lists "
   ]
  },
  {
   "cell_type": "code",
   "execution_count": 108,
   "id": "bb296795",
   "metadata": {},
   "outputs": [],
   "source": [
    "files = os.listdir('english_words_corpora/')\n",
    "if '.ipynb_checkpoints' in files:\n",
    "    files.remove('.ipynb_checkpoints')\n",
    "english_corpus = set()\n",
    "\n",
    "for file in files:\n",
    "    with open(f\"english_words_corpora/{file}\", \"r\") as read_obj:\n",
    "        csv_reader = csv.reader(read_obj)\n",
    "        list_of_words = list(csv_reader)\n",
    "        english_corpus.update(list_of_words[0])\n",
    "cw = csv.writer(open(\"english_words_corpora/english_corpus.csv\",\"w\"))\n",
    "cw.writerow(english_corpus)      "
   ]
  }
 ],
 "metadata": {
  "kernelspec": {
   "display_name": "Python 3",
   "language": "python",
   "name": "python3"
  },
  "language_info": {
   "codemirror_mode": {
    "name": "ipython",
    "version": 3
   },
   "file_extension": ".py",
   "mimetype": "text/x-python",
   "name": "python",
   "nbconvert_exporter": "python",
   "pygments_lexer": "ipython3",
   "version": "3.8.8"
  }
 },
 "nbformat": 4,
 "nbformat_minor": 5
}
