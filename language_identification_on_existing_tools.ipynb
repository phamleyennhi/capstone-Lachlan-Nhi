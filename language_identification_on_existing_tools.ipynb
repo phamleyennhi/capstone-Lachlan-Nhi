{
 "cells": [
  {
   "cell_type": "markdown",
   "id": "09946e59",
   "metadata": {},
   "source": [
    "## Data Colletion from Twitter"
   ]
  },
  {
   "cell_type": "code",
   "execution_count": 1,
   "id": "d9d9e5a7",
   "metadata": {},
   "outputs": [],
   "source": [
    "import pandas as pd\n",
    "import snscrape.modules.twitter as sntwitter\n",
    "import itertools\n",
    "import numpy as np\n",
    "import re\n",
    "\n",
    "pd.set_option('display.max_colwidth', None)\n",
    "pd.set_option('display.max_rows', 500)"
   ]
  },
  {
   "cell_type": "code",
   "execution_count": 2,
   "id": "e7d28629",
   "metadata": {},
   "outputs": [],
   "source": [
    "stopwords = [\"for\", \"on\", \"an\", \"a\", \"of\", \"and\", \"in\", \"the\", \"to\", \"from\"]\n",
    "\n",
    "def clean_tweet(tweet):\n",
    "    if type(tweet) == np.float:\n",
    "        return \"\"\n",
    "    temp = tweet.lower()\n",
    "    temp = re.sub(\"'\", \"\", temp) # to avoid removing contractions in english\n",
    "    temp = re.sub(\"@[A-Za-z0-9_]+\",\"\", temp)\n",
    "    temp = re.sub(\"#[A-Za-z0-9_]+\",\"\", temp)\n",
    "    temp = re.sub(r'http\\S+', '', temp)\n",
    "    temp = re.sub('[()!?]', ' ', temp)\n",
    "    temp = re.sub('\\[.*?\\]',' ', temp)\n",
    "    temp = re.sub(\"[^a-z0-9]\",\" \", temp)\n",
    "    temp = temp.split()\n",
    "    temp = [w for w in temp if not w in stopwords]\n",
    "    temp = \" \".join(word for word in temp)\n",
    "    return temp\n",
    "\n",
    "\n",
    "def get_data(city, amount, distance = '20km'):\n",
    "    df_city = pd.DataFrame(itertools.islice(sntwitter.TwitterSearchScraper(f'near:\"{city}\" within:{distance}').get_items(), amount))[['date', 'content']]\n",
    "    df_city['cleaned_content'] = [clean_tweet(i) for i in df_city['content']]\n",
    "    df_city.to_csv(f\"data/{city}.csv\")\n",
    "    return df_city"
   ]
  },
  {
   "cell_type": "code",
   "execution_count": null,
   "id": "eae2257c",
   "metadata": {},
   "outputs": [
    {
     "name": "stdout",
     "output_type": "stream",
     "text": [
      "CPU times: user 1min 11s, sys: 5.09 s, total: 1min 16s\n",
      "Wall time: 58min 17s\n"
     ]
    }
   ],
   "source": [
    "%%time\n",
    "get_data(\"Accra\", 10000)\n",
    "get_data(\"Dublin\", 10000)\n",
    "get_data(\"Jamaica\", 10000)\n",
    "get_data(\"London\", 10000)\n",
    "get_data(\"Melbourne\", 10000)\n",
    "get_data(\"New Delhi\", 10000)\n",
    "get_data(\"New York\", 10000)\n",
    "get_data(\"Singapore\", 10000)\n",
    "get_data(\"Manila\", 10000)"
   ]
  },
  {
   "cell_type": "code",
   "execution_count": 4,
   "id": "8ba8616b",
   "metadata": {},
   "outputs": [
    {
     "data": {
      "text/plain": [
       "'thank you thank you'"
      ]
     },
     "execution_count": 4,
     "metadata": {},
     "output_type": "execute_result"
    }
   ],
   "source": []
  },
  {
   "cell_type": "code",
   "execution_count": 6,
   "id": "9821eac2",
   "metadata": {},
   "outputs": [
    {
     "data": {
      "text/html": [
       "<div>\n",
       "<style scoped>\n",
       "    .dataframe tbody tr th:only-of-type {\n",
       "        vertical-align: middle;\n",
       "    }\n",
       "\n",
       "    .dataframe tbody tr th {\n",
       "        vertical-align: top;\n",
       "    }\n",
       "\n",
       "    .dataframe thead th {\n",
       "        text-align: right;\n",
       "    }\n",
       "</style>\n",
       "<table border=\"1\" class=\"dataframe\">\n",
       "  <thead>\n",
       "    <tr style=\"text-align: right;\">\n",
       "      <th></th>\n",
       "      <th>date</th>\n",
       "      <th>content</th>\n",
       "      <th>cleaned_content</th>\n",
       "    </tr>\n",
       "  </thead>\n",
       "  <tbody>\n",
       "    <tr>\n",
       "      <th>0</th>\n",
       "      <td>2022-05-20 08:29:17+00:00</td>\n",
       "      <td>@a100_rs 😂💔</td>\n",
       "      <td></td>\n",
       "    </tr>\n",
       "    <tr>\n",
       "      <th>1</th>\n",
       "      <td>2022-05-20 08:29:16+00:00</td>\n",
       "      <td>@ManeJObaba 😁</td>\n",
       "      <td></td>\n",
       "    </tr>\n",
       "    <tr>\n",
       "      <th>2</th>\n",
       "      <td>2022-05-20 08:29:12+00:00</td>\n",
       "      <td>Ban plastics and ban all mining for some years</td>\n",
       "      <td>ban plastics ban all mining some years</td>\n",
       "    </tr>\n",
       "    <tr>\n",
       "      <th>3</th>\n",
       "      <td>2022-05-20 08:29:12+00:00</td>\n",
       "      <td>@Polo_Capalot @pikaso_me please screenshot this</td>\n",
       "      <td>please screenshot this</td>\n",
       "    </tr>\n",
       "    <tr>\n",
       "      <th>4</th>\n",
       "      <td>2022-05-20 08:29:11+00:00</td>\n",
       "      <td>@stonebwoy ❤️</td>\n",
       "      <td></td>\n",
       "    </tr>\n",
       "    <tr>\n",
       "      <th>...</th>\n",
       "      <td>...</td>\n",
       "      <td>...</td>\n",
       "      <td>...</td>\n",
       "    </tr>\n",
       "    <tr>\n",
       "      <th>9995</th>\n",
       "      <td>2022-05-20 01:56:31+00:00</td>\n",
       "      <td>@TrishiaNasa ebi like I wan take you away fro him 😂😂😂💔</td>\n",
       "      <td>ebi like i wan take you away fro him</td>\n",
       "    </tr>\n",
       "    <tr>\n",
       "      <th>9996</th>\n",
       "      <td>2022-05-20 01:56:30+00:00</td>\n",
       "      <td>@Ordinaryganaian Madness</td>\n",
       "      <td>madness</td>\n",
       "    </tr>\n",
       "    <tr>\n",
       "      <th>9997</th>\n",
       "      <td>2022-05-20 01:56:27+00:00</td>\n",
       "      <td>@FisicoImpuro Nuevamente \\n@FisicoImbecil alias NALGA LOCA</td>\n",
       "      <td>nuevamente alias nalga loca</td>\n",
       "    </tr>\n",
       "    <tr>\n",
       "      <th>9998</th>\n",
       "      <td>2022-05-20 01:56:26+00:00</td>\n",
       "      <td>@AnfieldWatch On them!!!</td>\n",
       "      <td>them</td>\n",
       "    </tr>\n",
       "    <tr>\n",
       "      <th>9999</th>\n",
       "      <td>2022-05-20 01:56:18+00:00</td>\n",
       "      <td>@Gratian_97 💀💀💀</td>\n",
       "      <td></td>\n",
       "    </tr>\n",
       "  </tbody>\n",
       "</table>\n",
       "<p>10000 rows × 3 columns</p>\n",
       "</div>"
      ],
      "text/plain": [
       "                          date  \\\n",
       "0    2022-05-20 08:29:17+00:00   \n",
       "1    2022-05-20 08:29:16+00:00   \n",
       "2    2022-05-20 08:29:12+00:00   \n",
       "3    2022-05-20 08:29:12+00:00   \n",
       "4    2022-05-20 08:29:11+00:00   \n",
       "...                        ...   \n",
       "9995 2022-05-20 01:56:31+00:00   \n",
       "9996 2022-05-20 01:56:30+00:00   \n",
       "9997 2022-05-20 01:56:27+00:00   \n",
       "9998 2022-05-20 01:56:26+00:00   \n",
       "9999 2022-05-20 01:56:18+00:00   \n",
       "\n",
       "                                                         content  \\\n",
       "0                                                    @a100_rs 😂💔   \n",
       "1                                                  @ManeJObaba 😁   \n",
       "2                 Ban plastics and ban all mining for some years   \n",
       "3                @Polo_Capalot @pikaso_me please screenshot this   \n",
       "4                                                  @stonebwoy ❤️   \n",
       "...                                                          ...   \n",
       "9995      @TrishiaNasa ebi like I wan take you away fro him 😂😂😂💔   \n",
       "9996                                    @Ordinaryganaian Madness   \n",
       "9997  @FisicoImpuro Nuevamente \\n@FisicoImbecil alias NALGA LOCA   \n",
       "9998                                    @AnfieldWatch On them!!!   \n",
       "9999                                             @Gratian_97 💀💀💀   \n",
       "\n",
       "                             cleaned_content  \n",
       "0                                             \n",
       "1                                             \n",
       "2     ban plastics ban all mining some years  \n",
       "3                     please screenshot this  \n",
       "4                                             \n",
       "...                                      ...  \n",
       "9995    ebi like i wan take you away fro him  \n",
       "9996                                 madness  \n",
       "9997             nuevamente alias nalga loca  \n",
       "9998                                    them  \n",
       "9999                                          \n",
       "\n",
       "[10000 rows x 3 columns]"
      ]
     },
     "execution_count": 6,
     "metadata": {},
     "output_type": "execute_result"
    }
   ],
   "source": []
  },
  {
   "cell_type": "code",
   "execution_count": null,
   "id": "0a66400c",
   "metadata": {},
   "outputs": [],
   "source": []
  }
 ],
 "metadata": {
  "kernelspec": {
   "display_name": "Python 3",
   "language": "python",
   "name": "python3"
  },
  "language_info": {
   "codemirror_mode": {
    "name": "ipython",
    "version": 3
   },
   "file_extension": ".py",
   "mimetype": "text/x-python",
   "name": "python",
   "nbconvert_exporter": "python",
   "pygments_lexer": "ipython3",
   "version": "3.9.5"
  }
 },
 "nbformat": 4,
 "nbformat_minor": 5
}
