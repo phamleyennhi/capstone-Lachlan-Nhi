{
 "cells": [
  {
   "cell_type": "code",
   "execution_count": 2,
   "id": "738ce754",
   "metadata": {
    "scrolled": true
   },
   "outputs": [
    {
     "data": {
      "application/vnd.jupyter.widget-view+json": {
       "model_id": "94a405c89e13461aafaa4461d0f04ff7",
       "version_major": 2,
       "version_minor": 0
      },
      "text/plain": [
       "Image(value=b'\\x89PNG\\r\\n\\x1a\\n\\x00\\x00\\x00\\rIHDR\\x00\\x00#0\\x00\\x00\\x06\\xc4\\x08\\x06\\x00\\x00\\x00\\xa5\\xaf~d\\x00\\…"
      ]
     },
     "metadata": {},
     "output_type": "display_data"
    },
    {
     "data": {
      "application/vnd.jupyter.widget-view+json": {
       "model_id": "84b73b75ef2948f69a0d932a0c51aab3",
       "version_major": 2,
       "version_minor": 0
      },
      "text/plain": [
       "HTML(value=\"<h2 style='text-align:center'>        easy text annotation in a Jupyter Notebook</h2>\")"
      ]
     },
     "metadata": {},
     "output_type": "display_data"
    }
   ],
   "source": [
    "from tortus import Tortus\n",
    "import pandas as pd\n",
    "import os"
   ]
  },
  {
   "cell_type": "code",
   "execution_count": 3,
   "id": "4a761518",
   "metadata": {},
   "outputs": [],
   "source": [
    "def annotate_tweets(path, text_column = \"cleaned_content\", num_records=100, prev_annotations = None, additional_labels = [], tweets_longer_than_num = 10):\n",
    "    df = pd.read_csv(path, index_col = \"id\")\n",
    "    # filter for cleaned tweet greater than length 10\n",
    "    df = df[df[text_column].str.count(' ').gt(tweets_longer_than_num-1)]\n",
    "    df[\"annotate_text\"] = \"<b>Raw:</b> \" + df[\"rawContent\"] + \"<br><b>Clean</b>: \" + df[text_column]\n",
    "    \n",
    "    temp_path_list = os.path.dirname(path).split('/')\n",
    "    temp_path_list[0] = 'first_annotation'\n",
    "    outdirs = '/'.join(temp_path_list)\n",
    "    basename = os.path.basename(path)\n",
    "    os.makedirs(outdirs, exist_ok = True)\n",
    "    output_path = os.path.join(outdirs, basename)\n",
    "    \n",
    "    if os.path.exists(output_path):\n",
    "        print(f\"Annotations already exist for: {output_path}, adding to these annotations\")\n",
    "        prev_annotations = pd.read_csv(output_path, index_col = \"Unnamed: 0\")\n",
    "        \n",
    "    tortus = Tortus(df, \"annotate_text\", num_records=num_records, annotations=prev_annotations, labels=[\"full_standard_english\", \"not-syntactic_standard_english\", \"non_standard_english\", \"code-switched\", \"some_english\", \"not_english\"] + additional_labels)\n",
    "    tortus.annotate()\n",
    "    return tortus, output_path\n",
    "\n",
    "def save_annotations(tortus, output_path):\n",
    "    tortus.annotations.to_csv(output_path)"
   ]
  },
  {
   "cell_type": "code",
   "execution_count": 6,
   "id": "3908af98",
   "metadata": {
    "scrolled": true
   },
   "outputs": [
    {
     "data": {
      "application/vnd.jupyter.widget-view+json": {
       "model_id": "bbcff0c141204ca68efc19a575465c0e",
       "version_major": 2,
       "version_minor": 0
      },
      "text/plain": [
       "HBox(children=(Image(value=b'\\x89PNG\\r\\n\\x1a\\n\\x00\\x00\\x00\\rIHDR\\x00\\x00#0\\x00\\x00\\x06\\xc4\\x08\\x06\\x00\\x00\\x00…"
      ]
     },
     "metadata": {},
     "output_type": "display_data"
    },
    {
     "data": {
      "application/vnd.jupyter.widget-view+json": {
       "model_id": "3dce4321c2674c9f85c61ce120e4d7fb",
       "version_major": 2,
       "version_minor": 0
      },
      "text/plain": [
       "Output()"
      ]
     },
     "metadata": {},
     "output_type": "display_data"
    }
   ],
   "source": [
    "original_path = \"data/Singapore/tweets_over_period/24400_tweets_over_period/0.9_to_1.0_english_words.csv\"\n",
    "tortus, output_path = annotate_tweets(original_path, num_records = 100, tweets_longer_than_num = 6)"
   ]
  },
  {
   "cell_type": "code",
   "execution_count": 7,
   "id": "0fe0ac64",
   "metadata": {
    "scrolled": true
   },
   "outputs": [
    {
     "data": {
      "text/html": [
       "<div>\n",
       "<style scoped>\n",
       "    .dataframe tbody tr th:only-of-type {\n",
       "        vertical-align: middle;\n",
       "    }\n",
       "\n",
       "    .dataframe tbody tr th {\n",
       "        vertical-align: top;\n",
       "    }\n",
       "\n",
       "    .dataframe thead th {\n",
       "        text-align: right;\n",
       "    }\n",
       "</style>\n",
       "<table border=\"1\" class=\"dataframe\">\n",
       "  <thead>\n",
       "    <tr style=\"text-align: right;\">\n",
       "      <th></th>\n",
       "      <th>id_column</th>\n",
       "      <th>annotate_text</th>\n",
       "      <th>label</th>\n",
       "      <th>annotated_at</th>\n",
       "    </tr>\n",
       "  </thead>\n",
       "  <tbody>\n",
       "    <tr>\n",
       "      <th>0</th>\n",
       "      <td>10881</td>\n",
       "      <td>&lt;b&gt;Raw:&lt;/b&gt; @geobragged It’s more the ~2mn sub...</td>\n",
       "      <td>non_standard_english</td>\n",
       "      <td>2022-12-10 00:59:08</td>\n",
       "    </tr>\n",
       "    <tr>\n",
       "      <th>1</th>\n",
       "      <td>23345</td>\n",
       "      <td>&lt;b&gt;Raw:&lt;/b&gt; @yackzilon Great thread! I wonder ...</td>\n",
       "      <td>not-syntactic_standard_english</td>\n",
       "      <td>2022-12-10 00:59:23</td>\n",
       "    </tr>\n",
       "    <tr>\n",
       "      <th>2</th>\n",
       "      <td>18572</td>\n",
       "      <td>&lt;b&gt;Raw:&lt;/b&gt; John\\nPallelai bedokwalk no49.miss...</td>\n",
       "      <td>NaN</td>\n",
       "      <td>2022-12-10 00:59:28</td>\n",
       "    </tr>\n",
       "    <tr>\n",
       "      <th>3</th>\n",
       "      <td>14280</td>\n",
       "      <td>&lt;b&gt;Raw:&lt;/b&gt; @KotskiYT @JayMBurton Honestly the...</td>\n",
       "      <td>non_standard_english</td>\n",
       "      <td>2022-12-10 00:59:39</td>\n",
       "    </tr>\n",
       "    <tr>\n",
       "      <th>4</th>\n",
       "      <td>4835</td>\n",
       "      <td>&lt;b&gt;Raw:&lt;/b&gt; It’s true that our bodies were not...</td>\n",
       "      <td>not-syntactic_standard_english</td>\n",
       "      <td>2022-12-10 00:59:52</td>\n",
       "    </tr>\n",
       "    <tr>\n",
       "      <th>...</th>\n",
       "      <td>...</td>\n",
       "      <td>...</td>\n",
       "      <td>...</td>\n",
       "      <td>...</td>\n",
       "    </tr>\n",
       "    <tr>\n",
       "      <th>195</th>\n",
       "      <td>4922</td>\n",
       "      <td>&lt;b&gt;Raw:&lt;/b&gt; Yesterday’s little #storm knocked ...</td>\n",
       "      <td>full_standard_english</td>\n",
       "      <td>2022-12-10 03:15:18</td>\n",
       "    </tr>\n",
       "    <tr>\n",
       "      <th>196</th>\n",
       "      <td>20175</td>\n",
       "      <td>&lt;b&gt;Raw:&lt;/b&gt; so right now, the plan is to imple...</td>\n",
       "      <td>not-syntactic_standard_english</td>\n",
       "      <td>2022-12-10 03:15:30</td>\n",
       "    </tr>\n",
       "    <tr>\n",
       "      <th>197</th>\n",
       "      <td>13116</td>\n",
       "      <td>&lt;b&gt;Raw:&lt;/b&gt; @WhiskyNovember @MagnaLeptus @MrsL...</td>\n",
       "      <td>non_standard_english</td>\n",
       "      <td>2022-12-10 03:15:35</td>\n",
       "    </tr>\n",
       "    <tr>\n",
       "      <th>198</th>\n",
       "      <td>16205</td>\n",
       "      <td>&lt;b&gt;Raw:&lt;/b&gt; The buffet had a combination of di...</td>\n",
       "      <td>non_standard_english</td>\n",
       "      <td>2022-12-10 03:15:51</td>\n",
       "    </tr>\n",
       "    <tr>\n",
       "      <th>199</th>\n",
       "      <td>18073</td>\n",
       "      <td>&lt;b&gt;Raw:&lt;/b&gt; And it’s clear that people with me...</td>\n",
       "      <td>full_standard_english</td>\n",
       "      <td>2022-12-10 03:16:03</td>\n",
       "    </tr>\n",
       "  </tbody>\n",
       "</table>\n",
       "<p>200 rows × 4 columns</p>\n",
       "</div>"
      ],
      "text/plain": [
       "     id_column                                      annotate_text  \\\n",
       "0        10881  <b>Raw:</b> @geobragged It’s more the ~2mn sub...   \n",
       "1        23345  <b>Raw:</b> @yackzilon Great thread! I wonder ...   \n",
       "2        18572  <b>Raw:</b> John\\nPallelai bedokwalk no49.miss...   \n",
       "3        14280  <b>Raw:</b> @KotskiYT @JayMBurton Honestly the...   \n",
       "4         4835  <b>Raw:</b> It’s true that our bodies were not...   \n",
       "..         ...                                                ...   \n",
       "195       4922  <b>Raw:</b> Yesterday’s little #storm knocked ...   \n",
       "196      20175  <b>Raw:</b> so right now, the plan is to imple...   \n",
       "197      13116  <b>Raw:</b> @WhiskyNovember @MagnaLeptus @MrsL...   \n",
       "198      16205  <b>Raw:</b> The buffet had a combination of di...   \n",
       "199      18073  <b>Raw:</b> And it’s clear that people with me...   \n",
       "\n",
       "                              label         annotated_at  \n",
       "0              non_standard_english  2022-12-10 00:59:08  \n",
       "1    not-syntactic_standard_english  2022-12-10 00:59:23  \n",
       "2                               NaN  2022-12-10 00:59:28  \n",
       "3              non_standard_english  2022-12-10 00:59:39  \n",
       "4    not-syntactic_standard_english  2022-12-10 00:59:52  \n",
       "..                              ...                  ...  \n",
       "195           full_standard_english  2022-12-10 03:15:18  \n",
       "196  not-syntactic_standard_english  2022-12-10 03:15:30  \n",
       "197            non_standard_english  2022-12-10 03:15:35  \n",
       "198            non_standard_english  2022-12-10 03:15:51  \n",
       "199           full_standard_english  2022-12-10 03:16:03  \n",
       "\n",
       "[200 rows x 4 columns]"
      ]
     },
     "execution_count": 7,
     "metadata": {},
     "output_type": "execute_result"
    }
   ],
   "source": [
    "save_annotations(tortus, output_path)\n",
    "tortus.annotations"
   ]
  },
  {
   "cell_type": "code",
   "execution_count": null,
   "id": "98e32405",
   "metadata": {},
   "outputs": [],
   "source": []
  }
 ],
 "metadata": {
  "kernelspec": {
   "display_name": "Python 3 (ipykernel)",
   "language": "python",
   "name": "python3"
  },
  "language_info": {
   "codemirror_mode": {
    "name": "ipython",
    "version": 3
   },
   "file_extension": ".py",
   "mimetype": "text/x-python",
   "name": "python",
   "nbconvert_exporter": "python",
   "pygments_lexer": "ipython3",
   "version": "3.10.0"
  }
 },
 "nbformat": 4,
 "nbformat_minor": 5
}
