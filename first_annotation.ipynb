{
 "cells": [
  {
   "cell_type": "code",
   "execution_count": 99,
   "id": "738ce754",
   "metadata": {
    "scrolled": true
   },
   "outputs": [],
   "source": [
    "from tortus import Tortus\n",
    "import pandas as pd\n",
    "import os"
   ]
  },
  {
   "cell_type": "code",
   "execution_count": 101,
   "id": "4a761518",
   "metadata": {},
   "outputs": [],
   "source": [
    "def annotate_tweets(path, text_column = \"cleaned_content\", num_records=100, prev_annotations = None, additional_labels = [], tweets_longer_than_num = 10):\n",
    "    df = pd.read_csv(path, index_col = \"id\")\n",
    "    # filter for cleaned tweet greater than length 10\n",
    "    df = df[df[text_column].str.count(' ').gt(tweets_longer_than_num-1)]\n",
    "    df[\"annotate_text\"] = \"<b>Raw:</b> \" + df[\"rawContent\"] + \"<br><b>Clean</b>: \" + df[text_column]\n",
    "    \n",
    "    temp_path_list = os.path.dirname(path).split('/')\n",
    "    temp_path_list[0] = 'first_annotation'\n",
    "    outdirs = '/'.join(temp_path_list)\n",
    "    basename = os.path.basename(path)\n",
    "    os.makedirs(outdirs, exist_ok = True)\n",
    "    output_path = os.path.join(outdirs, basename)\n",
    "    \n",
    "    if os.path.exists(output_path):\n",
    "        print(f\"Annotations already exist for: {output_path}, adding to these annotations\")\n",
    "        prev_annotations = pd.read_csv(output_path, index_col = \"Unnamed: 0\")\n",
    "        \n",
    "    tortus = Tortus(df, \"annotate_text\", num_records=num_records, annotations=prev_annotations, labels=[\"full_standard_english\", \"not-syntactic_standard_english\", \"non_standard_english\", \"code-switched\", \"some_english\", \"not_english\"] + additional_labels)\n",
    "    tortus.annotate()\n",
    "    return tortus, output_path\n",
    "\n",
    "def save_annotations(tortus, output_path):\n",
    "    tortus.annotations.to_csv(output_path)"
   ]
  },
  {
   "cell_type": "code",
   "execution_count": 102,
   "id": "3908af98",
   "metadata": {
    "scrolled": true
   },
   "outputs": [
    {
     "data": {
      "application/vnd.jupyter.widget-view+json": {
       "model_id": "5591d2eaa7be4ca9b1c1b5e323073da6",
       "version_major": 2,
       "version_minor": 0
      },
      "text/plain": [
       "HBox(children=(Image(value=b'\\x89PNG\\r\\n\\x1a\\n\\x00\\x00\\x00\\rIHDR\\x00\\x00#0\\x00\\x00\\x06\\xc4\\x08\\x06\\x00\\x00\\x00…"
      ]
     },
     "metadata": {},
     "output_type": "display_data"
    },
    {
     "data": {
      "application/vnd.jupyter.widget-view+json": {
       "model_id": "acff721e85be499795cdd008ab958248",
       "version_major": 2,
       "version_minor": 0
      },
      "text/plain": [
       "HTML(value='Click on the label corresponding with the text below. Each selection requires                 conf…"
      ]
     },
     "metadata": {},
     "output_type": "display_data"
    },
    {
     "data": {
      "application/vnd.jupyter.widget-view+json": {
       "model_id": "d42eb2bed6604a9f928572964053c7fb",
       "version_major": 2,
       "version_minor": 0
      },
      "text/plain": [
       "HTML(value='<h4><b>Raw:</b> John\\nPallelai bedokwalk no49.misslohahhuat.misskitty.u are to take responsibility…"
      ]
     },
     "metadata": {},
     "output_type": "display_data"
    },
    {
     "data": {
      "application/vnd.jupyter.widget-view+json": {
       "model_id": "2b19be88fb5a44c8b012f565e959ecab",
       "version_major": 2,
       "version_minor": 0
      },
      "text/plain": [
       "GridBox(children=(VBox(children=(Box(children=(Button(description='full_standard_english', layout=Layout(borde…"
      ]
     },
     "metadata": {},
     "output_type": "display_data"
    },
    {
     "data": {
      "application/vnd.jupyter.widget-view+json": {
       "model_id": "fb1e7087b9424d449c15fb33942a41d6",
       "version_major": 2,
       "version_minor": 0
      },
      "text/plain": [
       "Output()"
      ]
     },
     "metadata": {},
     "output_type": "display_data"
    }
   ],
   "source": [
    "original_path = \"data/Singapore/tweets_over_period/24400_tweets_over_period/0.8_to_0.9_english_words.csv\"\n",
    "tortus, output_path = annotate_tweets(original_path, num_records = 10)"
   ]
  },
  {
   "cell_type": "code",
   "execution_count": 90,
   "id": "0fe0ac64",
   "metadata": {
    "scrolled": true
   },
   "outputs": [
    {
     "data": {
      "text/html": [
       "<div>\n",
       "<style scoped>\n",
       "    .dataframe tbody tr th:only-of-type {\n",
       "        vertical-align: middle;\n",
       "    }\n",
       "\n",
       "    .dataframe tbody tr th {\n",
       "        vertical-align: top;\n",
       "    }\n",
       "\n",
       "    .dataframe thead th {\n",
       "        text-align: right;\n",
       "    }\n",
       "</style>\n",
       "<table border=\"1\" class=\"dataframe\">\n",
       "  <thead>\n",
       "    <tr style=\"text-align: right;\">\n",
       "      <th></th>\n",
       "      <th>id_column</th>\n",
       "      <th>annotate_text</th>\n",
       "      <th>label</th>\n",
       "      <th>annotated_at</th>\n",
       "    </tr>\n",
       "  </thead>\n",
       "  <tbody>\n",
       "    <tr>\n",
       "      <th>0</th>\n",
       "      <td>11422</td>\n",
       "      <td>&lt;b&gt;Raw:&lt;/b&gt; Alors euh, la je suis dans un mood...</td>\n",
       "      <td>not_english</td>\n",
       "      <td>2022-11-17 16:55:28</td>\n",
       "    </tr>\n",
       "    <tr>\n",
       "      <th>1</th>\n",
       "      <td>5110</td>\n",
       "      <td>&lt;b&gt;Raw:&lt;/b&gt; Normalize lang nang crush mo sakon...</td>\n",
       "      <td>some_english</td>\n",
       "      <td>2022-11-17 16:55:38</td>\n",
       "    </tr>\n",
       "    <tr>\n",
       "      <th>2</th>\n",
       "      <td>3500</td>\n",
       "      <td>&lt;b&gt;Raw:&lt;/b&gt; Muntik na ah .pwede pala umulit yu...</td>\n",
       "      <td>not_english</td>\n",
       "      <td>2022-11-17 16:55:42</td>\n",
       "    </tr>\n",
       "    <tr>\n",
       "      <th>3</th>\n",
       "      <td>7616</td>\n",
       "      <td>&lt;b&gt;Raw:&lt;/b&gt; @el2andi @AgusPratono3 @03__nakula...</td>\n",
       "      <td>not_english</td>\n",
       "      <td>2022-11-17 16:55:44</td>\n",
       "    </tr>\n",
       "    <tr>\n",
       "      <th>4</th>\n",
       "      <td>23432</td>\n",
       "      <td>&lt;b&gt;Raw:&lt;/b&gt; @ydnxc Super ! J’ai un peu regardé...</td>\n",
       "      <td>not_english</td>\n",
       "      <td>2022-11-17 16:55:48</td>\n",
       "    </tr>\n",
       "    <tr>\n",
       "      <th>5</th>\n",
       "      <td>8828</td>\n",
       "      <td>&lt;b&gt;Raw:&lt;/b&gt; Je pourrais ne jamais me lasser de...</td>\n",
       "      <td>not_english</td>\n",
       "      <td>2022-11-17 16:55:55</td>\n",
       "    </tr>\n",
       "    <tr>\n",
       "      <th>6</th>\n",
       "      <td>11263</td>\n",
       "      <td>&lt;b&gt;Raw:&lt;/b&gt; Tengok??? Orang luar lebih memberi...</td>\n",
       "      <td>code-switched</td>\n",
       "      <td>2022-11-17 16:56:01</td>\n",
       "    </tr>\n",
       "    <tr>\n",
       "      <th>7</th>\n",
       "      <td>22090</td>\n",
       "      <td>&lt;b&gt;Raw:&lt;/b&gt; John\\nPallelai bedokwalk no49.miss...</td>\n",
       "      <td>code-switched</td>\n",
       "      <td>2022-11-17 16:56:10</td>\n",
       "    </tr>\n",
       "    <tr>\n",
       "      <th>8</th>\n",
       "      <td>12779</td>\n",
       "      <td>&lt;b&gt;Raw:&lt;/b&gt; Ohh para dun sa nagblock sa akin k...</td>\n",
       "      <td>some_english</td>\n",
       "      <td>2022-11-17 16:56:16</td>\n",
       "    </tr>\n",
       "    <tr>\n",
       "      <th>9</th>\n",
       "      <td>15222</td>\n",
       "      <td>&lt;b&gt;Raw:&lt;/b&gt; dua2 janji melayu... kata meet 7:1...</td>\n",
       "      <td>some_english</td>\n",
       "      <td>2022-11-17 16:56:29</td>\n",
       "    </tr>\n",
       "  </tbody>\n",
       "</table>\n",
       "</div>"
      ],
      "text/plain": [
       "  id_column                                      annotate_text          label  \\\n",
       "0     11422  <b>Raw:</b> Alors euh, la je suis dans un mood...    not_english   \n",
       "1      5110  <b>Raw:</b> Normalize lang nang crush mo sakon...   some_english   \n",
       "2      3500  <b>Raw:</b> Muntik na ah .pwede pala umulit yu...    not_english   \n",
       "3      7616  <b>Raw:</b> @el2andi @AgusPratono3 @03__nakula...    not_english   \n",
       "4     23432  <b>Raw:</b> @ydnxc Super ! J’ai un peu regardé...    not_english   \n",
       "5      8828  <b>Raw:</b> Je pourrais ne jamais me lasser de...    not_english   \n",
       "6     11263  <b>Raw:</b> Tengok??? Orang luar lebih memberi...  code-switched   \n",
       "7     22090  <b>Raw:</b> John\\nPallelai bedokwalk no49.miss...  code-switched   \n",
       "8     12779  <b>Raw:</b> Ohh para dun sa nagblock sa akin k...   some_english   \n",
       "9     15222  <b>Raw:</b> dua2 janji melayu... kata meet 7:1...   some_english   \n",
       "\n",
       "         annotated_at  \n",
       "0 2022-11-17 16:55:28  \n",
       "1 2022-11-17 16:55:38  \n",
       "2 2022-11-17 16:55:42  \n",
       "3 2022-11-17 16:55:44  \n",
       "4 2022-11-17 16:55:48  \n",
       "5 2022-11-17 16:55:55  \n",
       "6 2022-11-17 16:56:01  \n",
       "7 2022-11-17 16:56:10  \n",
       "8 2022-11-17 16:56:16  \n",
       "9 2022-11-17 16:56:29  "
      ]
     },
     "execution_count": 90,
     "metadata": {},
     "output_type": "execute_result"
    }
   ],
   "source": [
    "save_annotations(tortus, output_path)\n",
    "tortus.annotations"
   ]
  },
  {
   "cell_type": "code",
   "execution_count": null,
   "id": "98e32405",
   "metadata": {},
   "outputs": [],
   "source": []
  }
 ],
 "metadata": {
  "kernelspec": {
   "display_name": "Python 3 (ipykernel)",
   "language": "python",
   "name": "python3"
  },
  "language_info": {
   "codemirror_mode": {
    "name": "ipython",
    "version": 3
   },
   "file_extension": ".py",
   "mimetype": "text/x-python",
   "name": "python",
   "nbconvert_exporter": "python",
   "pygments_lexer": "ipython3",
   "version": "3.10.0"
  }
 },
 "nbformat": 4,
 "nbformat_minor": 5
}
