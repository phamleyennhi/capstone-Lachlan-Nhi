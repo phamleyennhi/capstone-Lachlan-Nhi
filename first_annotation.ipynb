{
 "cells": [
  {
   "cell_type": "code",
   "execution_count": 1,
   "id": "738ce754",
   "metadata": {
    "scrolled": true
   },
   "outputs": [
    {
     "data": {
      "application/vnd.jupyter.widget-view+json": {
       "model_id": "50ff081d49d246639fb804171471745f",
       "version_major": 2,
       "version_minor": 0
      },
      "text/plain": [
       "Image(value=b'\\x89PNG\\r\\n\\x1a\\n\\x00\\x00\\x00\\rIHDR\\x00\\x00#0\\x00\\x00\\x06\\xc4\\x08\\x06\\x00\\x00\\x00\\xa5\\xaf~d\\x00\\…"
      ]
     },
     "metadata": {},
     "output_type": "display_data"
    },
    {
     "data": {
      "application/vnd.jupyter.widget-view+json": {
       "model_id": "747b9ed9b0e948dd9d15d008aff27dd3",
       "version_major": 2,
       "version_minor": 0
      },
      "text/plain": [
       "HTML(value=\"<h2 style='text-align:center'>        easy text annotation in a Jupyter Notebook</h2>\")"
      ]
     },
     "metadata": {},
     "output_type": "display_data"
    }
   ],
   "source": [
    "from tortus import Tortus\n",
    "import pandas as pd\n",
    "import os"
   ]
  },
  {
   "cell_type": "code",
   "execution_count": 10,
   "id": "4a761518",
   "metadata": {},
   "outputs": [],
   "source": [
    "def annotate_tweets(path, text_column = \"cleaned_content\", num_records=100, prev_annotations = None, additional_labels = [], tweets_longer_than_num = 10):\n",
    "    df = pd.read_csv(path, index_col = \"id\")\n",
    "    # filter for cleaned tweet greater than length 10\n",
    "    df = df[df[text_column].str.count(' ').gt(tweets_longer_than_num-1)]\n",
    "    df[\"annotate_text\"] = \"<b>Raw:</b> \" + df[\"rawContent\"] + \"<br><b>Clean</b>: \" + df[text_column]\n",
    "    \n",
    "    temp_path_list = os.path.dirname(path).split('/')\n",
    "    temp_path_list[0] = 'first_annotation'\n",
    "    outdirs = '/'.join(temp_path_list)\n",
    "    basename = os.path.basename(path)\n",
    "    os.makedirs(outdirs, exist_ok = True)\n",
    "    output_path = os.path.join(outdirs, basename)\n",
    "    \n",
    "    if os.path.exists(output_path):\n",
    "        print(f\"Annotations already exist for: {output_path}, adding to these annotations\")\n",
    "        prev_annotations = pd.read_csv(output_path, index_col = \"Unnamed: 0\")\n",
    "        \n",
    "    tortus = Tortus(df, \"annotate_text\", num_records=num_records, annotations=prev_annotations, labels=[\"full_standard_english\", \"not-syntactic_standard_english\", \"non_standard_english\", \"code-switched\", \"some_english\", \"not_english\"] + additional_labels)\n",
    "    tortus.annotate()\n",
    "    return tortus, output_path\n",
    "\n",
    "def save_annotations(tortus, output_path):\n",
    "    tortus.annotations.to_csv(output_path)"
   ]
  },
  {
   "cell_type": "code",
   "execution_count": 12,
   "id": "3908af98",
   "metadata": {
    "scrolled": true
   },
   "outputs": [
    {
     "data": {
      "application/vnd.jupyter.widget-view+json": {
       "model_id": "68b66670646e43b494ad980674edb764",
       "version_major": 2,
       "version_minor": 0
      },
      "text/plain": [
       "HBox(children=(Image(value=b'\\x89PNG\\r\\n\\x1a\\n\\x00\\x00\\x00\\rIHDR\\x00\\x00#0\\x00\\x00\\x06\\xc4\\x08\\x06\\x00\\x00\\x00…"
      ]
     },
     "metadata": {},
     "output_type": "display_data"
    },
    {
     "data": {
      "application/vnd.jupyter.widget-view+json": {
       "model_id": "a857f00187bd424da647db23ce8ab9f6",
       "version_major": 2,
       "version_minor": 0
      },
      "text/plain": [
       "HTML(value='Click on the label corresponding with the text below. Each selection requires                 conf…"
      ]
     },
     "metadata": {},
     "output_type": "display_data"
    },
    {
     "data": {
      "application/vnd.jupyter.widget-view+json": {
       "model_id": "4a01bc2d8b774dc98a3e035dd8796cfc",
       "version_major": 2,
       "version_minor": 0
      },
      "text/plain": [
       "HTML(value='<h4><b>Raw:</b> Lesko: “I stand in opposition to HR 2377…I have 5 grandchildren. I would do anythi…"
      ]
     },
     "metadata": {},
     "output_type": "display_data"
    },
    {
     "data": {
      "application/vnd.jupyter.widget-view+json": {
       "model_id": "7d4a4e2720e64500b4c9918835e119d4",
       "version_major": 2,
       "version_minor": 0
      },
      "text/plain": [
       "GridBox(children=(VBox(children=(Box(children=(Button(description='full_standard_english', layout=Layout(borde…"
      ]
     },
     "metadata": {},
     "output_type": "display_data"
    },
    {
     "data": {
      "application/vnd.jupyter.widget-view+json": {
       "model_id": "c6a557ed84bc4d0d8d9f2b77cfcf2656",
       "version_major": 2,
       "version_minor": 0
      },
      "text/plain": [
       "Output()"
      ]
     },
     "metadata": {},
     "output_type": "display_data"
    }
   ],
   "source": [
    "original_path = \"data/Singapore/tweets_over_period/24400_tweets_over_period/0.9_to_1.0_english_words.csv\"\n",
    "tortus, output_path = annotate_tweets(original_path, num_records = 100)"
   ]
  },
  {
   "cell_type": "code",
   "execution_count": 9,
   "id": "0fe0ac64",
   "metadata": {
    "scrolled": true
   },
   "outputs": [
    {
     "data": {
      "text/html": [
       "<div>\n",
       "<style scoped>\n",
       "    .dataframe tbody tr th:only-of-type {\n",
       "        vertical-align: middle;\n",
       "    }\n",
       "\n",
       "    .dataframe tbody tr th {\n",
       "        vertical-align: top;\n",
       "    }\n",
       "\n",
       "    .dataframe thead th {\n",
       "        text-align: right;\n",
       "    }\n",
       "</style>\n",
       "<table border=\"1\" class=\"dataframe\">\n",
       "  <thead>\n",
       "    <tr style=\"text-align: right;\">\n",
       "      <th></th>\n",
       "      <th>id_column</th>\n",
       "      <th>annotate_text</th>\n",
       "      <th>label</th>\n",
       "      <th>annotated_at</th>\n",
       "    </tr>\n",
       "  </thead>\n",
       "  <tbody>\n",
       "    <tr>\n",
       "      <th>0</th>\n",
       "      <td>6948</td>\n",
       "      <td>&lt;b&gt;Raw:&lt;/b&gt; Have time that I just work for the...</td>\n",
       "      <td>code-switched</td>\n",
       "      <td>2022-11-18 12:28:22</td>\n",
       "    </tr>\n",
       "    <tr>\n",
       "      <th>1</th>\n",
       "      <td>14215</td>\n",
       "      <td>&lt;b&gt;Raw:&lt;/b&gt; Good MEWning to this person who ma...</td>\n",
       "      <td>non_standard_english</td>\n",
       "      <td>2022-11-18 12:28:27</td>\n",
       "    </tr>\n",
       "    <tr>\n",
       "      <th>2</th>\n",
       "      <td>21662</td>\n",
       "      <td>&lt;b&gt;Raw:&lt;/b&gt; StarMagicBeyondTheStars happening ...</td>\n",
       "      <td>full_standard_english</td>\n",
       "      <td>2022-11-18 12:28:35</td>\n",
       "    </tr>\n",
       "    <tr>\n",
       "      <th>3</th>\n",
       "      <td>6760</td>\n",
       "      <td>&lt;b&gt;Raw:&lt;/b&gt; Please go vot for L,he currently r...</td>\n",
       "      <td>non_standard_english</td>\n",
       "      <td>2022-11-18 12:28:41</td>\n",
       "    </tr>\n",
       "    <tr>\n",
       "      <th>4</th>\n",
       "      <td>23932</td>\n",
       "      <td>&lt;b&gt;Raw:&lt;/b&gt; John\\nPallelai  bedokwalk no 49.mi...</td>\n",
       "      <td>not-syntactic_standard_english</td>\n",
       "      <td>2022-11-18 12:29:01</td>\n",
       "    </tr>\n",
       "    <tr>\n",
       "      <th>...</th>\n",
       "      <td>...</td>\n",
       "      <td>...</td>\n",
       "      <td>...</td>\n",
       "      <td>...</td>\n",
       "    </tr>\n",
       "    <tr>\n",
       "      <th>295</th>\n",
       "      <td>18903</td>\n",
       "      <td>&lt;b&gt;Raw:&lt;/b&gt; John\\nPallelai bedokwalk no49.miss...</td>\n",
       "      <td>None</td>\n",
       "      <td>2022-11-18 13:57:18</td>\n",
       "    </tr>\n",
       "    <tr>\n",
       "      <th>296</th>\n",
       "      <td>20710</td>\n",
       "      <td>&lt;b&gt;Raw:&lt;/b&gt; John\\nPallelai bedokwalk no49.miss...</td>\n",
       "      <td>None</td>\n",
       "      <td>2022-11-18 13:57:21</td>\n",
       "    </tr>\n",
       "    <tr>\n",
       "      <th>297</th>\n",
       "      <td>14738</td>\n",
       "      <td>&lt;b&gt;Raw:&lt;/b&gt; John\\nPallelai bedokwalk no 49.mis...</td>\n",
       "      <td>None</td>\n",
       "      <td>2022-11-18 13:57:23</td>\n",
       "    </tr>\n",
       "    <tr>\n",
       "      <th>298</th>\n",
       "      <td>21858</td>\n",
       "      <td>&lt;b&gt;Raw:&lt;/b&gt; John\\nPallelai bedojwalk no49.miss...</td>\n",
       "      <td>None</td>\n",
       "      <td>2022-11-18 13:57:25</td>\n",
       "    </tr>\n",
       "    <tr>\n",
       "      <th>299</th>\n",
       "      <td>23532</td>\n",
       "      <td>&lt;b&gt;Raw:&lt;/b&gt; forget jetlag, my body is not read...</td>\n",
       "      <td>non_standard_english</td>\n",
       "      <td>2022-11-18 13:59:56</td>\n",
       "    </tr>\n",
       "  </tbody>\n",
       "</table>\n",
       "<p>300 rows × 4 columns</p>\n",
       "</div>"
      ],
      "text/plain": [
       "     id_column                                      annotate_text  \\\n",
       "0         6948  <b>Raw:</b> Have time that I just work for the...   \n",
       "1        14215  <b>Raw:</b> Good MEWning to this person who ma...   \n",
       "2        21662  <b>Raw:</b> StarMagicBeyondTheStars happening ...   \n",
       "3         6760  <b>Raw:</b> Please go vot for L,he currently r...   \n",
       "4        23932  <b>Raw:</b> John\\nPallelai  bedokwalk no 49.mi...   \n",
       "..         ...                                                ...   \n",
       "295      18903  <b>Raw:</b> John\\nPallelai bedokwalk no49.miss...   \n",
       "296      20710  <b>Raw:</b> John\\nPallelai bedokwalk no49.miss...   \n",
       "297      14738  <b>Raw:</b> John\\nPallelai bedokwalk no 49.mis...   \n",
       "298      21858  <b>Raw:</b> John\\nPallelai bedojwalk no49.miss...   \n",
       "299      23532  <b>Raw:</b> forget jetlag, my body is not read...   \n",
       "\n",
       "                              label         annotated_at  \n",
       "0                     code-switched  2022-11-18 12:28:22  \n",
       "1              non_standard_english  2022-11-18 12:28:27  \n",
       "2             full_standard_english  2022-11-18 12:28:35  \n",
       "3              non_standard_english  2022-11-18 12:28:41  \n",
       "4    not-syntactic_standard_english  2022-11-18 12:29:01  \n",
       "..                              ...                  ...  \n",
       "295                            None  2022-11-18 13:57:18  \n",
       "296                            None  2022-11-18 13:57:21  \n",
       "297                            None  2022-11-18 13:57:23  \n",
       "298                            None  2022-11-18 13:57:25  \n",
       "299            non_standard_english  2022-11-18 13:59:56  \n",
       "\n",
       "[300 rows x 4 columns]"
      ]
     },
     "execution_count": 9,
     "metadata": {},
     "output_type": "execute_result"
    }
   ],
   "source": [
    "save_annotations(tortus, output_path)\n",
    "tortus.annotations"
   ]
  },
  {
   "cell_type": "code",
   "execution_count": null,
   "id": "98e32405",
   "metadata": {},
   "outputs": [],
   "source": []
  }
 ],
 "metadata": {
  "kernelspec": {
   "display_name": "Python 3 (ipykernel)",
   "language": "python",
   "name": "python3"
  },
  "language_info": {
   "codemirror_mode": {
    "name": "ipython",
    "version": 3
   },
   "file_extension": ".py",
   "mimetype": "text/x-python",
   "name": "python",
   "nbconvert_exporter": "python",
   "pygments_lexer": "ipython3",
   "version": "3.10.0"
  }
 },
 "nbformat": 4,
 "nbformat_minor": 5
}
