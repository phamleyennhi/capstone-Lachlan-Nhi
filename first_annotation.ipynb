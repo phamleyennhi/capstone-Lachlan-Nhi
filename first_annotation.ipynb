{
 "cells": [
  {
   "cell_type": "code",
   "execution_count": 1,
   "id": "738ce754",
   "metadata": {
    "scrolled": true
   },
   "outputs": [
    {
     "data": {
      "application/vnd.jupyter.widget-view+json": {
       "model_id": "50ff081d49d246639fb804171471745f",
       "version_major": 2,
       "version_minor": 0
      },
      "text/plain": [
       "Image(value=b'\\x89PNG\\r\\n\\x1a\\n\\x00\\x00\\x00\\rIHDR\\x00\\x00#0\\x00\\x00\\x06\\xc4\\x08\\x06\\x00\\x00\\x00\\xa5\\xaf~d\\x00\\…"
      ]
     },
     "metadata": {},
     "output_type": "display_data"
    },
    {
     "data": {
      "application/vnd.jupyter.widget-view+json": {
       "model_id": "747b9ed9b0e948dd9d15d008aff27dd3",
       "version_major": 2,
       "version_minor": 0
      },
      "text/plain": [
       "HTML(value=\"<h2 style='text-align:center'>        easy text annotation in a Jupyter Notebook</h2>\")"
      ]
     },
     "metadata": {},
     "output_type": "display_data"
    }
   ],
   "source": [
    "from tortus import Tortus\n",
    "import pandas as pd\n",
    "import os"
   ]
  },
  {
   "cell_type": "code",
   "execution_count": 2,
   "id": "4a761518",
   "metadata": {},
   "outputs": [],
   "source": [
    "def annotate_tweets(path, text_column = \"cleaned_content\", num_records=100, prev_annotations = None, additional_labels = [], tweets_longer_than_num = 10):\n",
    "    df = pd.read_csv(path, index_col = \"id\")\n",
    "    # filter for cleaned tweet greater than length 10\n",
    "    df = df[df[text_column].str.count(' ').gt(tweets_longer_than_num-1)]\n",
    "    df[\"annotate_text\"] = \"<b>Raw:</b> \" + df[\"rawContent\"] + \"<br><b>Clean</b>: \" + df[text_column]\n",
    "    \n",
    "    temp_path_list = os.path.dirname(path).split('/')\n",
    "    temp_path_list[0] = 'first_annotation'\n",
    "    outdirs = '/'.join(temp_path_list)\n",
    "    basename = os.path.basename(path)\n",
    "    os.makedirs(outdirs, exist_ok = True)\n",
    "    output_path = os.path.join(outdirs, basename)\n",
    "    \n",
    "    if os.path.exists(output_path):\n",
    "        print(f\"Annotations already exist for: {output_path}, adding to these annotations\")\n",
    "        prev_annotations = pd.read_csv(output_path, index_col = \"Unnamed: 0\")\n",
    "        \n",
    "    tortus = Tortus(df, \"annotate_text\", num_records=num_records, annotations=prev_annotations, labels=[\"full_standard_english\", \"not-syntactic_standard_english\", \"non_standard_english\", \"code-switched\", \"some_english\", \"not_english\"] + additional_labels)\n",
    "    tortus.annotate()\n",
    "    return tortus, output_path\n",
    "\n",
    "def save_annotations(tortus, output_path):\n",
    "    tortus.annotations.to_csv(output_path)"
   ]
  },
  {
   "cell_type": "code",
   "execution_count": 3,
   "id": "3908af98",
   "metadata": {
    "scrolled": true
   },
   "outputs": [
    {
     "data": {
      "application/vnd.jupyter.widget-view+json": {
       "model_id": "ad03bfe298e542028c739631cd0d6bf6",
       "version_major": 2,
       "version_minor": 0
      },
      "text/plain": [
       "HBox(children=(Image(value=b'\\x89PNG\\r\\n\\x1a\\n\\x00\\x00\\x00\\rIHDR\\x00\\x00#0\\x00\\x00\\x06\\xc4\\x08\\x06\\x00\\x00\\x00…"
      ]
     },
     "metadata": {},
     "output_type": "display_data"
    },
    {
     "data": {
      "application/vnd.jupyter.widget-view+json": {
       "model_id": "580cea6cbec644108f54cdbeb65b55ef",
       "version_major": 2,
       "version_minor": 0
      },
      "text/plain": [
       "Output()"
      ]
     },
     "metadata": {},
     "output_type": "display_data"
    }
   ],
   "source": [
    "original_path = \"data/Singapore/tweets_over_period/24400_tweets_over_period/0.8_to_0.9_english_words.csv\"\n",
    "tortus, output_path = annotate_tweets(original_path, num_records = 100)"
   ]
  },
  {
   "cell_type": "code",
   "execution_count": 4,
   "id": "0fe0ac64",
   "metadata": {
    "scrolled": true
   },
   "outputs": [
    {
     "data": {
      "text/html": [
       "<div>\n",
       "<style scoped>\n",
       "    .dataframe tbody tr th:only-of-type {\n",
       "        vertical-align: middle;\n",
       "    }\n",
       "\n",
       "    .dataframe tbody tr th {\n",
       "        vertical-align: top;\n",
       "    }\n",
       "\n",
       "    .dataframe thead th {\n",
       "        text-align: right;\n",
       "    }\n",
       "</style>\n",
       "<table border=\"1\" class=\"dataframe\">\n",
       "  <thead>\n",
       "    <tr style=\"text-align: right;\">\n",
       "      <th></th>\n",
       "      <th>id_column</th>\n",
       "      <th>annotate_text</th>\n",
       "      <th>label</th>\n",
       "      <th>annotated_at</th>\n",
       "    </tr>\n",
       "  </thead>\n",
       "  <tbody>\n",
       "    <tr>\n",
       "      <th>0</th>\n",
       "      <td>6948</td>\n",
       "      <td>&lt;b&gt;Raw:&lt;/b&gt; Have time that I just work for the...</td>\n",
       "      <td>code-switched</td>\n",
       "      <td>2022-11-18 12:28:22</td>\n",
       "    </tr>\n",
       "    <tr>\n",
       "      <th>1</th>\n",
       "      <td>14215</td>\n",
       "      <td>&lt;b&gt;Raw:&lt;/b&gt; Good MEWning to this person who ma...</td>\n",
       "      <td>non_standard_english</td>\n",
       "      <td>2022-11-18 12:28:27</td>\n",
       "    </tr>\n",
       "    <tr>\n",
       "      <th>2</th>\n",
       "      <td>21662</td>\n",
       "      <td>&lt;b&gt;Raw:&lt;/b&gt; StarMagicBeyondTheStars happening ...</td>\n",
       "      <td>full_standard_english</td>\n",
       "      <td>2022-11-18 12:28:35</td>\n",
       "    </tr>\n",
       "    <tr>\n",
       "      <th>3</th>\n",
       "      <td>6760</td>\n",
       "      <td>&lt;b&gt;Raw:&lt;/b&gt; Please go vot for L,he currently r...</td>\n",
       "      <td>non_standard_english</td>\n",
       "      <td>2022-11-18 12:28:41</td>\n",
       "    </tr>\n",
       "    <tr>\n",
       "      <th>4</th>\n",
       "      <td>23932</td>\n",
       "      <td>&lt;b&gt;Raw:&lt;/b&gt; John\\nPallelai  bedokwalk no 49.mi...</td>\n",
       "      <td>not-syntactic_standard_english</td>\n",
       "      <td>2022-11-18 12:29:01</td>\n",
       "    </tr>\n",
       "    <tr>\n",
       "      <th>...</th>\n",
       "      <td>...</td>\n",
       "      <td>...</td>\n",
       "      <td>...</td>\n",
       "      <td>...</td>\n",
       "    </tr>\n",
       "    <tr>\n",
       "      <th>95</th>\n",
       "      <td>9622</td>\n",
       "      <td>&lt;b&gt;Raw:&lt;/b&gt; Thank you for being part of the 5 ...</td>\n",
       "      <td>full_standard_english</td>\n",
       "      <td>2022-11-18 12:51:19</td>\n",
       "    </tr>\n",
       "    <tr>\n",
       "      <th>96</th>\n",
       "      <td>23521</td>\n",
       "      <td>&lt;b&gt;Raw:&lt;/b&gt; Daw BGC ang SG hahaha times 5 lang...</td>\n",
       "      <td>not_english</td>\n",
       "      <td>2022-11-18 12:51:27</td>\n",
       "    </tr>\n",
       "    <tr>\n",
       "      <th>97</th>\n",
       "      <td>8934</td>\n",
       "      <td>&lt;b&gt;Raw:&lt;/b&gt; MewMew, I miss you! ❤️ I hope you ...</td>\n",
       "      <td>code-switched</td>\n",
       "      <td>2022-11-18 12:51:37</td>\n",
       "    </tr>\n",
       "    <tr>\n",
       "      <th>98</th>\n",
       "      <td>19103</td>\n",
       "      <td>&lt;b&gt;Raw:&lt;/b&gt; @zonotrick These were on Pulau Ubi...</td>\n",
       "      <td>full_standard_english</td>\n",
       "      <td>2022-11-18 12:55:00</td>\n",
       "    </tr>\n",
       "    <tr>\n",
       "      <th>99</th>\n",
       "      <td>10967</td>\n",
       "      <td>&lt;b&gt;Raw:&lt;/b&gt; Just saw an uncle kena dropkick by...</td>\n",
       "      <td>code-switched</td>\n",
       "      <td>2022-11-18 12:55:10</td>\n",
       "    </tr>\n",
       "  </tbody>\n",
       "</table>\n",
       "<p>100 rows × 4 columns</p>\n",
       "</div>"
      ],
      "text/plain": [
       "   id_column                                      annotate_text  \\\n",
       "0       6948  <b>Raw:</b> Have time that I just work for the...   \n",
       "1      14215  <b>Raw:</b> Good MEWning to this person who ma...   \n",
       "2      21662  <b>Raw:</b> StarMagicBeyondTheStars happening ...   \n",
       "3       6760  <b>Raw:</b> Please go vot for L,he currently r...   \n",
       "4      23932  <b>Raw:</b> John\\nPallelai  bedokwalk no 49.mi...   \n",
       "..       ...                                                ...   \n",
       "95      9622  <b>Raw:</b> Thank you for being part of the 5 ...   \n",
       "96     23521  <b>Raw:</b> Daw BGC ang SG hahaha times 5 lang...   \n",
       "97      8934  <b>Raw:</b> MewMew, I miss you! ❤️ I hope you ...   \n",
       "98     19103  <b>Raw:</b> @zonotrick These were on Pulau Ubi...   \n",
       "99     10967  <b>Raw:</b> Just saw an uncle kena dropkick by...   \n",
       "\n",
       "                             label        annotated_at  \n",
       "0                    code-switched 2022-11-18 12:28:22  \n",
       "1             non_standard_english 2022-11-18 12:28:27  \n",
       "2            full_standard_english 2022-11-18 12:28:35  \n",
       "3             non_standard_english 2022-11-18 12:28:41  \n",
       "4   not-syntactic_standard_english 2022-11-18 12:29:01  \n",
       "..                             ...                 ...  \n",
       "95           full_standard_english 2022-11-18 12:51:19  \n",
       "96                     not_english 2022-11-18 12:51:27  \n",
       "97                   code-switched 2022-11-18 12:51:37  \n",
       "98           full_standard_english 2022-11-18 12:55:00  \n",
       "99                   code-switched 2022-11-18 12:55:10  \n",
       "\n",
       "[100 rows x 4 columns]"
      ]
     },
     "execution_count": 4,
     "metadata": {},
     "output_type": "execute_result"
    }
   ],
   "source": [
    "save_annotations(tortus, output_path)\n",
    "tortus.annotations"
   ]
  },
  {
   "cell_type": "code",
   "execution_count": null,
   "id": "98e32405",
   "metadata": {},
   "outputs": [],
   "source": []
  }
 ],
 "metadata": {
  "kernelspec": {
   "display_name": "Python 3 (ipykernel)",
   "language": "python",
   "name": "python3"
  },
  "language_info": {
   "codemirror_mode": {
    "name": "ipython",
    "version": 3
   },
   "file_extension": ".py",
   "mimetype": "text/x-python",
   "name": "python",
   "nbconvert_exporter": "python",
   "pygments_lexer": "ipython3",
   "version": "3.10.0"
  }
 },
 "nbformat": 4,
 "nbformat_minor": 5
}
