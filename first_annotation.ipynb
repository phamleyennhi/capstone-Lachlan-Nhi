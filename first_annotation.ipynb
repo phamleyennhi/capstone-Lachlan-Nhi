{
 "cells": [
  {
   "cell_type": "code",
   "execution_count": 1,
   "id": "738ce754",
   "metadata": {
    "scrolled": true
   },
   "outputs": [
    {
     "data": {
      "application/vnd.jupyter.widget-view+json": {
       "model_id": "4cc5e391a06744198e5100928d8c7778",
       "version_major": 2,
       "version_minor": 0
      },
      "text/plain": [
       "HTML(value=\"<h1 style='text-align:center'>t &nbsp; <span style=        'color:#36a849'>o</span> &nbsp; r &nbsp…"
      ]
     },
     "metadata": {},
     "output_type": "display_data"
    },
    {
     "data": {
      "application/vnd.jupyter.widget-view+json": {
       "model_id": "9f400c1972514c51a4aaad1a7ebf1c25",
       "version_major": 2,
       "version_minor": 0
      },
      "text/plain": [
       "HTML(value=\"<h3 style='text-align:center'>        easy text annotation in a Jupyter Notebook</h3>\")"
      ]
     },
     "metadata": {},
     "output_type": "display_data"
    }
   ],
   "source": [
    "from tortus import Tortus\n",
    "import pandas as pd\n",
    "import os"
   ]
  },
  {
   "cell_type": "code",
   "execution_count": 2,
   "id": "4a761518",
   "metadata": {},
   "outputs": [],
   "source": [
    "def annotate_tweets(path, text_column = \"cleaned_content\", num_records=100, prev_annotations = None, additional_labels = [], tweets_longer_than_num = 10):\n",
    "    df = pd.read_csv(path, index_col = \"id\")\n",
    "    # filter for cleaned tweet greater than length 10\n",
    "    df = df[df[text_column].str.count(' ').gt(tweets_longer_than_num-1)]\n",
    "    df[\"annotate_text\"] = \"<b>Raw:</b> \" + df[\"rawContent\"] + \"<br><b>Clean</b>: \" + df[text_column]\n",
    "    \n",
    "    temp_path_list = os.path.dirname(path).split('/')\n",
    "    temp_path_list[0] = 'first_annotation'\n",
    "    outdirs = '/'.join(temp_path_list)\n",
    "    basename = os.path.basename(path)\n",
    "    os.makedirs(outdirs, exist_ok = True)\n",
    "    output_path = os.path.join(outdirs, basename)\n",
    "    \n",
    "    if os.path.exists(output_path):\n",
    "        print(f\"Annotations already exist for: {output_path}, adding to these annotations\")\n",
    "        prev_annotations = pd.read_csv(output_path, index_col = \"Unnamed: 0\")\n",
    "        \n",
    "    tortus = Tortus(df, \"annotate_text\", num_records=num_records, annotations=prev_annotations, labels=[\"full_standard_english\", \"not-syntactic_standard_english\", \"non_standard_english\", \"code-switched\", \"some_english\", \"not_english\"] + additional_labels)\n",
    "    tortus.annotate()\n",
    "    return tortus, output_path\n",
    "\n",
    "def save_annotations(tortus, output_path):\n",
    "    tortus.annotations.to_csv(output_path)"
   ]
  },
  {
   "cell_type": "code",
   "execution_count": 3,
   "id": "3908af98",
   "metadata": {
    "scrolled": true
   },
   "outputs": [
    {
     "data": {
      "application/vnd.jupyter.widget-view+json": {
       "model_id": "b3d3354df0c44e79a8a541bdc6a11a6d",
       "version_major": 2,
       "version_minor": 0
      },
      "text/plain": [
       "HBox(children=(HTML(value='<h1>t &nbsp; <span style=\"color:#36a849\">o</span>             &nbsp; r &nbsp; t &nb…"
      ]
     },
     "metadata": {},
     "output_type": "display_data"
    },
    {
     "data": {
      "application/vnd.jupyter.widget-view+json": {
       "model_id": "7f0f8e30d2d04421886ede865442d07c",
       "version_major": 2,
       "version_minor": 0
      },
      "text/plain": [
       "Output()"
      ]
     },
     "metadata": {},
     "output_type": "display_data"
    }
   ],
   "source": [
    "original_path = \"data/Singapore/tweets_over_period/24400_tweets_over_period/0.7_to_0.8_english_words.csv\"\n",
    "tortus, output_path = annotate_tweets(original_path, num_records = 100, tweets_longer_than_num = 6)"
   ]
  },
  {
   "cell_type": "code",
   "execution_count": 4,
   "id": "0fe0ac64",
   "metadata": {
    "scrolled": true
   },
   "outputs": [
    {
     "data": {
      "text/html": [
       "<div>\n",
       "<style scoped>\n",
       "    .dataframe tbody tr th:only-of-type {\n",
       "        vertical-align: middle;\n",
       "    }\n",
       "\n",
       "    .dataframe tbody tr th {\n",
       "        vertical-align: top;\n",
       "    }\n",
       "\n",
       "    .dataframe thead th {\n",
       "        text-align: right;\n",
       "    }\n",
       "</style>\n",
       "<table border=\"1\" class=\"dataframe\">\n",
       "  <thead>\n",
       "    <tr style=\"text-align: right;\">\n",
       "      <th></th>\n",
       "      <th>id_column</th>\n",
       "      <th>annotate_text</th>\n",
       "      <th>label</th>\n",
       "      <th>annotated_at</th>\n",
       "    </tr>\n",
       "  </thead>\n",
       "  <tbody>\n",
       "    <tr>\n",
       "      <th>0</th>\n",
       "      <td>18044</td>\n",
       "      <td>&lt;b&gt;Raw:&lt;/b&gt; John\\nPallelai bedokwalk no49.miss...</td>\n",
       "      <td>NaN</td>\n",
       "      <td>2022-11-18 13:20:53</td>\n",
       "    </tr>\n",
       "    <tr>\n",
       "      <th>1</th>\n",
       "      <td>14211</td>\n",
       "      <td>&lt;b&gt;Raw:&lt;/b&gt; 没事不要换passport！Long Q like vaccinat...</td>\n",
       "      <td>non_standard_english</td>\n",
       "      <td>2022-11-18 13:21:09</td>\n",
       "    </tr>\n",
       "    <tr>\n",
       "      <th>2</th>\n",
       "      <td>18549</td>\n",
       "      <td>&lt;b&gt;Raw:&lt;/b&gt; John\\nPallelai bedokwalk no 49.mis...</td>\n",
       "      <td>NaN</td>\n",
       "      <td>2022-11-18 13:21:12</td>\n",
       "    </tr>\n",
       "    <tr>\n",
       "      <th>3</th>\n",
       "      <td>17947</td>\n",
       "      <td>&lt;b&gt;Raw:&lt;/b&gt; John\\nPallelai bedokwalk bo49 miss...</td>\n",
       "      <td>NaN</td>\n",
       "      <td>2022-11-18 13:21:15</td>\n",
       "    </tr>\n",
       "    <tr>\n",
       "      <th>4</th>\n",
       "      <td>21112</td>\n",
       "      <td>&lt;b&gt;Raw:&lt;/b&gt; Lepas 4 hr vacay, rasa janggal ye ...</td>\n",
       "      <td>not_english</td>\n",
       "      <td>2022-11-18 13:21:18</td>\n",
       "    </tr>\n",
       "    <tr>\n",
       "      <th>...</th>\n",
       "      <td>...</td>\n",
       "      <td>...</td>\n",
       "      <td>...</td>\n",
       "      <td>...</td>\n",
       "    </tr>\n",
       "    <tr>\n",
       "      <th>295</th>\n",
       "      <td>5947</td>\n",
       "      <td>&lt;b&gt;Raw:&lt;/b&gt; I'm at Oasis Primary School in Dam...</td>\n",
       "      <td>None</td>\n",
       "      <td>2022-12-10 15:35:07</td>\n",
       "    </tr>\n",
       "    <tr>\n",
       "      <th>296</th>\n",
       "      <td>12356</td>\n",
       "      <td>&lt;b&gt;Raw:&lt;/b&gt; Just posted a photo @ Bukit Gombak...</td>\n",
       "      <td>None</td>\n",
       "      <td>2022-12-10 15:35:09</td>\n",
       "    </tr>\n",
       "    <tr>\n",
       "      <th>297</th>\n",
       "      <td>7429</td>\n",
       "      <td>&lt;b&gt;Raw:&lt;/b&gt; I'm at Oasis Primary School in Dam...</td>\n",
       "      <td>None</td>\n",
       "      <td>2022-12-10 15:35:57</td>\n",
       "    </tr>\n",
       "    <tr>\n",
       "      <th>298</th>\n",
       "      <td>1869</td>\n",
       "      <td>&lt;b&gt;Raw:&lt;/b&gt; This our boys legacy!\\n\\nBAZINGA O...</td>\n",
       "      <td>None</td>\n",
       "      <td>2022-12-10 15:36:10</td>\n",
       "    </tr>\n",
       "    <tr>\n",
       "      <th>299</th>\n",
       "      <td>10309</td>\n",
       "      <td>&lt;b&gt;Raw:&lt;/b&gt; Good morning sa lahat. Except sa m...</td>\n",
       "      <td>code-switched</td>\n",
       "      <td>2022-12-10 15:36:16</td>\n",
       "    </tr>\n",
       "  </tbody>\n",
       "</table>\n",
       "<p>300 rows × 4 columns</p>\n",
       "</div>"
      ],
      "text/plain": [
       "     id_column                                      annotate_text  \\\n",
       "0        18044  <b>Raw:</b> John\\nPallelai bedokwalk no49.miss...   \n",
       "1        14211  <b>Raw:</b> 没事不要换passport！Long Q like vaccinat...   \n",
       "2        18549  <b>Raw:</b> John\\nPallelai bedokwalk no 49.mis...   \n",
       "3        17947  <b>Raw:</b> John\\nPallelai bedokwalk bo49 miss...   \n",
       "4        21112  <b>Raw:</b> Lepas 4 hr vacay, rasa janggal ye ...   \n",
       "..         ...                                                ...   \n",
       "295       5947  <b>Raw:</b> I'm at Oasis Primary School in Dam...   \n",
       "296      12356  <b>Raw:</b> Just posted a photo @ Bukit Gombak...   \n",
       "297       7429  <b>Raw:</b> I'm at Oasis Primary School in Dam...   \n",
       "298       1869  <b>Raw:</b> This our boys legacy!\\n\\nBAZINGA O...   \n",
       "299      10309  <b>Raw:</b> Good morning sa lahat. Except sa m...   \n",
       "\n",
       "                    label         annotated_at  \n",
       "0                     NaN  2022-11-18 13:20:53  \n",
       "1    non_standard_english  2022-11-18 13:21:09  \n",
       "2                     NaN  2022-11-18 13:21:12  \n",
       "3                     NaN  2022-11-18 13:21:15  \n",
       "4             not_english  2022-11-18 13:21:18  \n",
       "..                    ...                  ...  \n",
       "295                  None  2022-12-10 15:35:07  \n",
       "296                  None  2022-12-10 15:35:09  \n",
       "297                  None  2022-12-10 15:35:57  \n",
       "298                  None  2022-12-10 15:36:10  \n",
       "299         code-switched  2022-12-10 15:36:16  \n",
       "\n",
       "[300 rows x 4 columns]"
      ]
     },
     "execution_count": 4,
     "metadata": {},
     "output_type": "execute_result"
    }
   ],
   "source": [
    "save_annotations(tortus, output_path)\n",
    "tortus.annotations"
   ]
  },
  {
   "cell_type": "code",
   "execution_count": null,
   "id": "98e32405",
   "metadata": {},
   "outputs": [],
   "source": []
  }
 ],
 "metadata": {
  "kernelspec": {
   "display_name": "Python 3",
   "language": "python",
   "name": "python3"
  },
  "language_info": {
   "codemirror_mode": {
    "name": "ipython",
    "version": 3
   },
   "file_extension": ".py",
   "mimetype": "text/x-python",
   "name": "python",
   "nbconvert_exporter": "python",
   "pygments_lexer": "ipython3",
   "version": "3.8.8"
  }
 },
 "nbformat": 4,
 "nbformat_minor": 5
}
