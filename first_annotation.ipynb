{
 "cells": [
  {
   "cell_type": "code",
   "execution_count": 46,
   "id": "738ce754",
   "metadata": {
    "scrolled": true
   },
   "outputs": [],
   "source": [
    "from tortus import Tortus\n",
    "import pandas as pd\n",
    "import os"
   ]
  },
  {
   "cell_type": "code",
   "execution_count": 47,
   "id": "4a761518",
   "metadata": {},
   "outputs": [],
   "source": [
    "def annotate_tweets(path, text_column = \"cleaned_content\", num_records=100, prev_annotations = None, additional_labels = []):\n",
    "    df = pd.read_csv(path, index_col = \"id\")\n",
    "    df[\"annotate_text\"] = \"<b>Raw:</b> \" + df[\"rawContent\"] + \"<br><b>Clean</b>: \" + df[text_column]\n",
    "    \n",
    "    temp_path_list = os.path.dirname(path).split('/')\n",
    "    temp_path_list[0] = 'first_annotation'\n",
    "    outdirs = '/'.join(temp_path_list)\n",
    "    basename = os.path.basename(path)\n",
    "    os.makedirs(outdirs, exist_ok = True)\n",
    "    output_path = os.path.join(outdirs, basename)\n",
    "    \n",
    "    if os.path.exists(output_path):\n",
    "        print(f\"Annotations already exist for: {output_path}, adding to these annotations\")\n",
    "        prev_annotations = pd.read_csv(output_path, index_col = \"Unnamed: 0\")\n",
    "        \n",
    "    tortus = Tortus(df, \"annotate_text\", num_records=num_records, annotations=prev_annotations, labels=[\"full_standard_english\", \"not-syntactic_standard_english\", \"non_standard_english\", \"code-switched\", \"some_english\", \"not_english\"] + additional_labels)\n",
    "    tortus.annotate()\n",
    "    return tortus, output_path\n",
    "\n",
    "def save_annotations(tortus, output_path):\n",
    "    tortus.annotations.to_csv(output_path)"
   ]
  },
  {
   "cell_type": "code",
   "execution_count": 48,
   "id": "3908af98",
   "metadata": {
    "scrolled": true
   },
   "outputs": [
    {
     "data": {
      "application/vnd.jupyter.widget-view+json": {
       "model_id": "ee09036563ed4d8ba2d6d143acabf9ff",
       "version_major": 2,
       "version_minor": 0
      },
      "text/plain": [
       "HBox(children=(Image(value=b'\\x89PNG\\r\\n\\x1a\\n\\x00\\x00\\x00\\rIHDR\\x00\\x00#0\\x00\\x00\\x06\\xc4\\x08\\x06\\x00\\x00\\x00…"
      ]
     },
     "metadata": {},
     "output_type": "display_data"
    },
    {
     "data": {
      "application/vnd.jupyter.widget-view+json": {
       "model_id": "0e581a4880d64d94888b6b22e437f87c",
       "version_major": 2,
       "version_minor": 0
      },
      "text/plain": [
       "Output()"
      ]
     },
     "metadata": {},
     "output_type": "display_data"
    }
   ],
   "source": [
    "original_path = \"data/Singapore/tweets_over_period/24400_tweets_over_period/0.7_to_0.8_english_words.csv\"\n",
    "tortus, output_path = annotate_tweets(original_path, num_records = 10)"
   ]
  },
  {
   "cell_type": "code",
   "execution_count": 49,
   "id": "0fe0ac64",
   "metadata": {
    "scrolled": true
   },
   "outputs": [
    {
     "data": {
      "text/html": [
       "<div>\n",
       "<style scoped>\n",
       "    .dataframe tbody tr th:only-of-type {\n",
       "        vertical-align: middle;\n",
       "    }\n",
       "\n",
       "    .dataframe tbody tr th {\n",
       "        vertical-align: top;\n",
       "    }\n",
       "\n",
       "    .dataframe thead th {\n",
       "        text-align: right;\n",
       "    }\n",
       "</style>\n",
       "<table border=\"1\" class=\"dataframe\">\n",
       "  <thead>\n",
       "    <tr style=\"text-align: right;\">\n",
       "      <th></th>\n",
       "      <th>id_column</th>\n",
       "      <th>annotate_text</th>\n",
       "      <th>label</th>\n",
       "      <th>annotated_at</th>\n",
       "    </tr>\n",
       "  </thead>\n",
       "  <tbody>\n",
       "    <tr>\n",
       "      <th>0</th>\n",
       "      <td>20925</td>\n",
       "      <td>&lt;b&gt;Raw:&lt;/b&gt; @Dziiingdziiing @DrDon97162070 @in...</td>\n",
       "      <td>code-switched</td>\n",
       "      <td>2022-11-17 15:13:02</td>\n",
       "    </tr>\n",
       "    <tr>\n",
       "      <th>1</th>\n",
       "      <td>12682</td>\n",
       "      <td>&lt;b&gt;Raw:&lt;/b&gt; @Hazy961 Morning.. Me too cuti smp...</td>\n",
       "      <td>code-switched</td>\n",
       "      <td>2022-11-17 15:13:08</td>\n",
       "    </tr>\n",
       "    <tr>\n",
       "      <th>2</th>\n",
       "      <td>2754</td>\n",
       "      <td>&lt;b&gt;Raw:&lt;/b&gt; @raphaelj9s Das ist halt immer die...</td>\n",
       "      <td>not_english</td>\n",
       "      <td>2022-11-17 15:13:12</td>\n",
       "    </tr>\n",
       "    <tr>\n",
       "      <th>3</th>\n",
       "      <td>7931</td>\n",
       "      <td>&lt;b&gt;Raw:&lt;/b&gt; @amekoto6 Pete the catの日本語版は日本の書店で...</td>\n",
       "      <td>not_english</td>\n",
       "      <td>2022-11-17 15:13:16</td>\n",
       "    </tr>\n",
       "    <tr>\n",
       "      <th>4</th>\n",
       "      <td>19700</td>\n",
       "      <td>&lt;b&gt;Raw:&lt;/b&gt; John\\nPallelai bedokwalk no49.miss...</td>\n",
       "      <td>non_standard_english</td>\n",
       "      <td>2022-11-17 15:13:41</td>\n",
       "    </tr>\n",
       "    <tr>\n",
       "      <th>5</th>\n",
       "      <td>2533</td>\n",
       "      <td>&lt;b&gt;Raw:&lt;/b&gt; I'm at Blk 210 Choa Chu Kang Centr...</td>\n",
       "      <td>non_standard_english</td>\n",
       "      <td>2022-11-17 15:13:46</td>\n",
       "    </tr>\n",
       "    <tr>\n",
       "      <th>6</th>\n",
       "      <td>22268</td>\n",
       "      <td>&lt;b&gt;Raw:&lt;/b&gt; John\\nPallelai bedokwalk no49.miss...</td>\n",
       "      <td>non_standard_english</td>\n",
       "      <td>2022-11-17 15:13:59</td>\n",
       "    </tr>\n",
       "    <tr>\n",
       "      <th>7</th>\n",
       "      <td>16014</td>\n",
       "      <td>&lt;b&gt;Raw:&lt;/b&gt; my mr solo dolo 🥹&lt;br&gt;&lt;b&gt;Clean&lt;/b&gt;:...</td>\n",
       "      <td>non_standard_english</td>\n",
       "      <td>2022-11-17 15:14:06</td>\n",
       "    </tr>\n",
       "    <tr>\n",
       "      <th>8</th>\n",
       "      <td>22257</td>\n",
       "      <td>&lt;b&gt;Raw:&lt;/b&gt; John\\nPallelai bedokwalk no49.miss...</td>\n",
       "      <td>non_standard_english</td>\n",
       "      <td>2022-11-17 15:14:14</td>\n",
       "    </tr>\n",
       "    <tr>\n",
       "      <th>9</th>\n",
       "      <td>1877</td>\n",
       "      <td>&lt;b&gt;Raw:&lt;/b&gt; Mas maganda pa din yung CLASSY  at...</td>\n",
       "      <td>not_english</td>\n",
       "      <td>2022-11-17 15:14:29</td>\n",
       "    </tr>\n",
       "  </tbody>\n",
       "</table>\n",
       "</div>"
      ],
      "text/plain": [
       "  id_column                                      annotate_text  \\\n",
       "0     20925  <b>Raw:</b> @Dziiingdziiing @DrDon97162070 @in...   \n",
       "1     12682  <b>Raw:</b> @Hazy961 Morning.. Me too cuti smp...   \n",
       "2      2754  <b>Raw:</b> @raphaelj9s Das ist halt immer die...   \n",
       "3      7931  <b>Raw:</b> @amekoto6 Pete the catの日本語版は日本の書店で...   \n",
       "4     19700  <b>Raw:</b> John\\nPallelai bedokwalk no49.miss...   \n",
       "5      2533  <b>Raw:</b> I'm at Blk 210 Choa Chu Kang Centr...   \n",
       "6     22268  <b>Raw:</b> John\\nPallelai bedokwalk no49.miss...   \n",
       "7     16014  <b>Raw:</b> my mr solo dolo 🥹<br><b>Clean</b>:...   \n",
       "8     22257  <b>Raw:</b> John\\nPallelai bedokwalk no49.miss...   \n",
       "9      1877  <b>Raw:</b> Mas maganda pa din yung CLASSY  at...   \n",
       "\n",
       "                  label        annotated_at  \n",
       "0         code-switched 2022-11-17 15:13:02  \n",
       "1         code-switched 2022-11-17 15:13:08  \n",
       "2           not_english 2022-11-17 15:13:12  \n",
       "3           not_english 2022-11-17 15:13:16  \n",
       "4  non_standard_english 2022-11-17 15:13:41  \n",
       "5  non_standard_english 2022-11-17 15:13:46  \n",
       "6  non_standard_english 2022-11-17 15:13:59  \n",
       "7  non_standard_english 2022-11-17 15:14:06  \n",
       "8  non_standard_english 2022-11-17 15:14:14  \n",
       "9           not_english 2022-11-17 15:14:29  "
      ]
     },
     "execution_count": 49,
     "metadata": {},
     "output_type": "execute_result"
    }
   ],
   "source": [
    "save_annotations(tortus, output_path)\n",
    "tortus.annotations"
   ]
  },
  {
   "cell_type": "code",
   "execution_count": null,
   "id": "98e32405",
   "metadata": {},
   "outputs": [],
   "source": []
  }
 ],
 "metadata": {
  "kernelspec": {
   "display_name": "Python 3 (ipykernel)",
   "language": "python",
   "name": "python3"
  },
  "language_info": {
   "codemirror_mode": {
    "name": "ipython",
    "version": 3
   },
   "file_extension": ".py",
   "mimetype": "text/x-python",
   "name": "python",
   "nbconvert_exporter": "python",
   "pygments_lexer": "ipython3",
   "version": "3.10.0"
  }
 },
 "nbformat": 4,
 "nbformat_minor": 5
}
