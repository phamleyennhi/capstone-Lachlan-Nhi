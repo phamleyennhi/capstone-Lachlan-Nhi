{
 "cells": [
  {
   "cell_type": "code",
   "execution_count": 42,
   "id": "738ce754",
   "metadata": {
    "scrolled": true
   },
   "outputs": [],
   "source": [
    "from tortus import Tortus\n",
    "import pandas as pd\n",
    "import os"
   ]
  },
  {
   "cell_type": "code",
   "execution_count": 43,
   "id": "4a761518",
   "metadata": {},
   "outputs": [],
   "source": [
    "def annotate_tweets(path, text_column = \"cleaned_content\", num_records=100, prev_annotations = None, additional_labels = []):\n",
    "    df = pd.read_csv(path, index_col = \"id\")\n",
    "    df[\"annotate_text\"] = \"<b>Raw:</b> \" + df[\"rawContent\"] + \"<br><b>Clean</b>: \" + df[text_column]\n",
    "    \n",
    "    temp_path_list = os.path.dirname(path).split('/')\n",
    "    temp_path_list[0] = 'first_annotation'\n",
    "    outdirs = '/'.join(temp_path_list)\n",
    "    basename = os.path.basename(path)\n",
    "    os.makedirs(outdirs, exist_ok = True)\n",
    "    output_path = os.path.join(outdirs, basename)\n",
    "    \n",
    "    if os.path.exists(output_path):\n",
    "        print(f\"Annotations already exist for: {output_path}, adding to these annotations\")\n",
    "        prev_annotations = pd.read_csv(output_path, index_col = \"Unnamed: 0\")\n",
    "        \n",
    "    tortus = Tortus(df, \"annotate_text\", num_records=num_records, annotations=prev_annotations, labels=[\"full_standard_english\", \"not-syntactic_standard_english\", \"non_standard_english\", \"code-switched\", \"some_english\", \"not_english\"] + additional_labels)\n",
    "    tortus.annotate()\n",
    "    return tortus, output_path\n",
    "\n",
    "def save_annotations(tortus, output_path):\n",
    "    tortus.annotations.to_csv(output_path)"
   ]
  },
  {
   "cell_type": "code",
   "execution_count": 44,
   "id": "3908af98",
   "metadata": {
    "scrolled": true
   },
   "outputs": [
    {
     "data": {
      "application/vnd.jupyter.widget-view+json": {
       "model_id": "ee126f2dd4e34f069fb0864892aa1483",
       "version_major": 2,
       "version_minor": 0
      },
      "text/plain": [
       "HBox(children=(Image(value=b'\\x89PNG\\r\\n\\x1a\\n\\x00\\x00\\x00\\rIHDR\\x00\\x00#0\\x00\\x00\\x06\\xc4\\x08\\x06\\x00\\x00\\x00…"
      ]
     },
     "metadata": {},
     "output_type": "display_data"
    },
    {
     "data": {
      "application/vnd.jupyter.widget-view+json": {
       "model_id": "9971b78901eb4b218112fa19d0ffc803",
       "version_major": 2,
       "version_minor": 0
      },
      "text/plain": [
       "Output()"
      ]
     },
     "metadata": {},
     "output_type": "display_data"
    }
   ],
   "source": [
    "original_path = \"data/Singapore/tweets_over_period/24400_tweets_over_period/0.7_to_0.8_english_words.csv\"\n",
    "tortus, output_path = annotate_tweets(original_path, num_records = 3)"
   ]
  },
  {
   "cell_type": "code",
   "execution_count": 45,
   "id": "0fe0ac64",
   "metadata": {
    "scrolled": true
   },
   "outputs": [
    {
     "data": {
      "text/html": [
       "<div>\n",
       "<style scoped>\n",
       "    .dataframe tbody tr th:only-of-type {\n",
       "        vertical-align: middle;\n",
       "    }\n",
       "\n",
       "    .dataframe tbody tr th {\n",
       "        vertical-align: top;\n",
       "    }\n",
       "\n",
       "    .dataframe thead th {\n",
       "        text-align: right;\n",
       "    }\n",
       "</style>\n",
       "<table border=\"1\" class=\"dataframe\">\n",
       "  <thead>\n",
       "    <tr style=\"text-align: right;\">\n",
       "      <th></th>\n",
       "      <th>id_column</th>\n",
       "      <th>annotate_text</th>\n",
       "      <th>label</th>\n",
       "      <th>annotated_at</th>\n",
       "    </tr>\n",
       "  </thead>\n",
       "  <tbody>\n",
       "    <tr>\n",
       "      <th>0</th>\n",
       "      <td>22605</td>\n",
       "      <td>&lt;b&gt;Raw:&lt;/b&gt; @9NewsSyd @cokeefe9 Ooooh another ...</td>\n",
       "      <td>full_standard_english</td>\n",
       "      <td>2022-11-17 15:07:11</td>\n",
       "    </tr>\n",
       "    <tr>\n",
       "      <th>1</th>\n",
       "      <td>9954</td>\n",
       "      <td>&lt;b&gt;Raw:&lt;/b&gt; I'm at Oasis Primary School in Dam...</td>\n",
       "      <td>full_standard_english</td>\n",
       "      <td>2022-11-17 15:07:13</td>\n",
       "    </tr>\n",
       "    <tr>\n",
       "      <th>2</th>\n",
       "      <td>2576</td>\n",
       "      <td>&lt;b&gt;Raw:&lt;/b&gt; @YouTube @marionskitchen 's XO sau...</td>\n",
       "      <td>full_standard_english</td>\n",
       "      <td>2022-11-17 15:07:14</td>\n",
       "    </tr>\n",
       "  </tbody>\n",
       "</table>\n",
       "</div>"
      ],
      "text/plain": [
       "  id_column                                      annotate_text  \\\n",
       "0     22605  <b>Raw:</b> @9NewsSyd @cokeefe9 Ooooh another ...   \n",
       "1      9954  <b>Raw:</b> I'm at Oasis Primary School in Dam...   \n",
       "2      2576  <b>Raw:</b> @YouTube @marionskitchen 's XO sau...   \n",
       "\n",
       "                   label        annotated_at  \n",
       "0  full_standard_english 2022-11-17 15:07:11  \n",
       "1  full_standard_english 2022-11-17 15:07:13  \n",
       "2  full_standard_english 2022-11-17 15:07:14  "
      ]
     },
     "execution_count": 45,
     "metadata": {},
     "output_type": "execute_result"
    }
   ],
   "source": [
    "save_annotations(tortus, output_path)\n",
    "tortus.annotations"
   ]
  },
  {
   "cell_type": "code",
   "execution_count": null,
   "id": "98e32405",
   "metadata": {},
   "outputs": [],
   "source": []
  }
 ],
 "metadata": {
  "kernelspec": {
   "display_name": "Python 3 (ipykernel)",
   "language": "python",
   "name": "python3"
  },
  "language_info": {
   "codemirror_mode": {
    "name": "ipython",
    "version": 3
   },
   "file_extension": ".py",
   "mimetype": "text/x-python",
   "name": "python",
   "nbconvert_exporter": "python",
   "pygments_lexer": "ipython3",
   "version": "3.10.0"
  }
 },
 "nbformat": 4,
 "nbformat_minor": 5
}
