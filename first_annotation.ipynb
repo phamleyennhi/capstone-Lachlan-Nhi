{
 "cells": [
  {
   "cell_type": "code",
   "execution_count": 59,
   "id": "738ce754",
   "metadata": {
    "scrolled": true
   },
   "outputs": [],
   "source": [
    "from tortus import Tortus\n",
    "import pandas as pd\n",
    "import os"
   ]
  },
  {
   "cell_type": "code",
   "execution_count": 60,
   "id": "4a761518",
   "metadata": {},
   "outputs": [],
   "source": [
    "def annotate_tweets(path, text_column = \"cleaned_content\", num_records=100, prev_annotations = None, additional_labels = []):\n",
    "    df = pd.read_csv(path, index_col = \"id\")\n",
    "    df[\"annotate_text\"] = \"<b>Raw:</b> \" + df[\"rawContent\"] + \"<br><b>Clean</b>: \" + df[text_column]\n",
    "    \n",
    "    temp_path_list = os.path.dirname(path).split('/')\n",
    "    temp_path_list[0] = 'first_annotation'\n",
    "    outdirs = '/'.join(temp_path_list)\n",
    "    basename = os.path.basename(path)\n",
    "    os.makedirs(outdirs, exist_ok = True)\n",
    "    output_path = os.path.join(outdirs, basename)\n",
    "    \n",
    "    if os.path.exists(output_path):\n",
    "        print(f\"Annotations already exist for: {output_path}, adding to these annotations\")\n",
    "        prev_annotations = pd.read_csv(output_path, index_col = \"Unnamed: 0\")\n",
    "        \n",
    "    tortus = Tortus(df, \"annotate_text\", num_records=num_records, annotations=prev_annotations, labels=[\"full_standard_english\", \"not-syntactic_standard_english\", \"non_standard_english\", \"code-switched\", \"some_english\", \"not_english\"] + additional_labels)\n",
    "    tortus.annotate()\n",
    "    return tortus, output_path\n",
    "\n",
    "def save_annotations(tortus, output_path):\n",
    "    tortus.annotations.to_csv(output_path)"
   ]
  },
  {
   "cell_type": "code",
   "execution_count": 67,
   "id": "3908af98",
   "metadata": {
    "scrolled": true
   },
   "outputs": [
    {
     "data": {
      "application/vnd.jupyter.widget-view+json": {
       "model_id": "ebff31e6bc374b499e75fd04cc56a4fa",
       "version_major": 2,
       "version_minor": 0
      },
      "text/plain": [
       "HBox(children=(Image(value=b'\\x89PNG\\r\\n\\x1a\\n\\x00\\x00\\x00\\rIHDR\\x00\\x00#0\\x00\\x00\\x06\\xc4\\x08\\x06\\x00\\x00\\x00…"
      ]
     },
     "metadata": {},
     "output_type": "display_data"
    },
    {
     "data": {
      "application/vnd.jupyter.widget-view+json": {
       "model_id": "766c293d34714c668baee1f5220c359f",
       "version_major": 2,
       "version_minor": 0
      },
      "text/plain": [
       "HTML(value='Click on the label corresponding with the text below. Each selection requires                 conf…"
      ]
     },
     "metadata": {},
     "output_type": "display_data"
    },
    {
     "data": {
      "application/vnd.jupyter.widget-view+json": {
       "model_id": "571dc7be26794c7eaa1fa460581b4bbd",
       "version_major": 2,
       "version_minor": 0
      },
      "text/plain": [
       "HTML(value='<h4><b>Raw:</b> Up in the “mountains” #Singapore @ Bukit Timah Nature Reserve https://t.co/kR7qPUF…"
      ]
     },
     "metadata": {},
     "output_type": "display_data"
    },
    {
     "data": {
      "application/vnd.jupyter.widget-view+json": {
       "model_id": "3d246506bcb54b7bad05f76a8b7b88dd",
       "version_major": 2,
       "version_minor": 0
      },
      "text/plain": [
       "GridBox(children=(VBox(children=(Box(children=(Button(description='full_standard_english', layout=Layout(borde…"
      ]
     },
     "metadata": {},
     "output_type": "display_data"
    },
    {
     "data": {
      "application/vnd.jupyter.widget-view+json": {
       "model_id": "ee3888e576924c71876911a41a131357",
       "version_major": 2,
       "version_minor": 0
      },
      "text/plain": [
       "Output()"
      ]
     },
     "metadata": {},
     "output_type": "display_data"
    }
   ],
   "source": [
    "original_path = \"data/Singapore/tweets_over_period/24400_tweets_over_period/0.7_to_0.8_english_words.csv\"\n",
    "tortus, output_path = annotate_tweets(original_path, num_records = 10)"
   ]
  },
  {
   "cell_type": "code",
   "execution_count": 66,
   "id": "0fe0ac64",
   "metadata": {
    "scrolled": true
   },
   "outputs": [
    {
     "data": {
      "text/html": [
       "<div>\n",
       "<style scoped>\n",
       "    .dataframe tbody tr th:only-of-type {\n",
       "        vertical-align: middle;\n",
       "    }\n",
       "\n",
       "    .dataframe tbody tr th {\n",
       "        vertical-align: top;\n",
       "    }\n",
       "\n",
       "    .dataframe thead th {\n",
       "        text-align: right;\n",
       "    }\n",
       "</style>\n",
       "<table border=\"1\" class=\"dataframe\">\n",
       "  <thead>\n",
       "    <tr style=\"text-align: right;\">\n",
       "      <th></th>\n",
       "      <th>id_column</th>\n",
       "      <th>annotate_text</th>\n",
       "      <th>label</th>\n",
       "      <th>annotated_at</th>\n",
       "    </tr>\n",
       "  </thead>\n",
       "  <tbody>\n",
       "    <tr>\n",
       "      <th>0</th>\n",
       "      <td>20925</td>\n",
       "      <td>&lt;b&gt;Raw:&lt;/b&gt; @Dziiingdziiing @DrDon97162070 @in...</td>\n",
       "      <td>code-switched</td>\n",
       "      <td>2022-11-17 15:13:02</td>\n",
       "    </tr>\n",
       "    <tr>\n",
       "      <th>1</th>\n",
       "      <td>12682</td>\n",
       "      <td>&lt;b&gt;Raw:&lt;/b&gt; @Hazy961 Morning.. Me too cuti smp...</td>\n",
       "      <td>code-switched</td>\n",
       "      <td>2022-11-17 15:13:08</td>\n",
       "    </tr>\n",
       "    <tr>\n",
       "      <th>2</th>\n",
       "      <td>2754</td>\n",
       "      <td>&lt;b&gt;Raw:&lt;/b&gt; @raphaelj9s Das ist halt immer die...</td>\n",
       "      <td>not_english</td>\n",
       "      <td>2022-11-17 15:13:12</td>\n",
       "    </tr>\n",
       "    <tr>\n",
       "      <th>3</th>\n",
       "      <td>7931</td>\n",
       "      <td>&lt;b&gt;Raw:&lt;/b&gt; @amekoto6 Pete the catの日本語版は日本の書店で...</td>\n",
       "      <td>not_english</td>\n",
       "      <td>2022-11-17 15:13:16</td>\n",
       "    </tr>\n",
       "    <tr>\n",
       "      <th>4</th>\n",
       "      <td>19700</td>\n",
       "      <td>&lt;b&gt;Raw:&lt;/b&gt; John\\nPallelai bedokwalk no49.miss...</td>\n",
       "      <td>non_standard_english</td>\n",
       "      <td>2022-11-17 15:13:41</td>\n",
       "    </tr>\n",
       "    <tr>\n",
       "      <th>...</th>\n",
       "      <td>...</td>\n",
       "      <td>...</td>\n",
       "      <td>...</td>\n",
       "      <td>...</td>\n",
       "    </tr>\n",
       "    <tr>\n",
       "      <th>65</th>\n",
       "      <td>5170</td>\n",
       "      <td>&lt;b&gt;Raw:&lt;/b&gt; @tommyaltinnit awh Tommy it's ok&lt;b...</td>\n",
       "      <td>non_standard_english</td>\n",
       "      <td>2022-11-17 16:09:02</td>\n",
       "    </tr>\n",
       "    <tr>\n",
       "      <th>66</th>\n",
       "      <td>22350</td>\n",
       "      <td>&lt;b&gt;Raw:&lt;/b&gt; ♡♡♡🇸🇬♡🇮🇳♡♡♡\\n\\nリトルインディア\\n\\n大好きになった...</td>\n",
       "      <td>not_english</td>\n",
       "      <td>2022-11-17 16:09:11</td>\n",
       "    </tr>\n",
       "    <tr>\n",
       "      <th>67</th>\n",
       "      <td>11640</td>\n",
       "      <td>&lt;b&gt;Raw:&lt;/b&gt; Joyceline a fait un tweet sur une ...</td>\n",
       "      <td>not_english</td>\n",
       "      <td>2022-11-17 16:09:15</td>\n",
       "    </tr>\n",
       "    <tr>\n",
       "      <th>68</th>\n",
       "      <td>17856</td>\n",
       "      <td>&lt;b&gt;Raw:&lt;/b&gt; My nightDuty stress relief..\\n#Ast...</td>\n",
       "      <td>non_standard_english</td>\n",
       "      <td>2022-11-17 16:09:22</td>\n",
       "    </tr>\n",
       "    <tr>\n",
       "      <th>69</th>\n",
       "      <td>9200</td>\n",
       "      <td>&lt;b&gt;Raw:&lt;/b&gt; I'm at Hai's Florist 海会花店 https://...</td>\n",
       "      <td>full_standard_english</td>\n",
       "      <td>2022-11-17 16:09:27</td>\n",
       "    </tr>\n",
       "  </tbody>\n",
       "</table>\n",
       "<p>70 rows × 4 columns</p>\n",
       "</div>"
      ],
      "text/plain": [
       "    id_column                                      annotate_text  \\\n",
       "0       20925  <b>Raw:</b> @Dziiingdziiing @DrDon97162070 @in...   \n",
       "1       12682  <b>Raw:</b> @Hazy961 Morning.. Me too cuti smp...   \n",
       "2        2754  <b>Raw:</b> @raphaelj9s Das ist halt immer die...   \n",
       "3        7931  <b>Raw:</b> @amekoto6 Pete the catの日本語版は日本の書店で...   \n",
       "4       19700  <b>Raw:</b> John\\nPallelai bedokwalk no49.miss...   \n",
       "..        ...                                                ...   \n",
       "65       5170  <b>Raw:</b> @tommyaltinnit awh Tommy it's ok<b...   \n",
       "66      22350  <b>Raw:</b> ♡♡♡🇸🇬♡🇮🇳♡♡♡\\n\\nリトルインディア\\n\\n大好きになった...   \n",
       "67      11640  <b>Raw:</b> Joyceline a fait un tweet sur une ...   \n",
       "68      17856  <b>Raw:</b> My nightDuty stress relief..\\n#Ast...   \n",
       "69       9200  <b>Raw:</b> I'm at Hai's Florist 海会花店 https://...   \n",
       "\n",
       "                    label         annotated_at  \n",
       "0           code-switched  2022-11-17 15:13:02  \n",
       "1           code-switched  2022-11-17 15:13:08  \n",
       "2             not_english  2022-11-17 15:13:12  \n",
       "3             not_english  2022-11-17 15:13:16  \n",
       "4    non_standard_english  2022-11-17 15:13:41  \n",
       "..                    ...                  ...  \n",
       "65   non_standard_english  2022-11-17 16:09:02  \n",
       "66            not_english  2022-11-17 16:09:11  \n",
       "67            not_english  2022-11-17 16:09:15  \n",
       "68   non_standard_english  2022-11-17 16:09:22  \n",
       "69  full_standard_english  2022-11-17 16:09:27  \n",
       "\n",
       "[70 rows x 4 columns]"
      ]
     },
     "execution_count": 66,
     "metadata": {},
     "output_type": "execute_result"
    }
   ],
   "source": [
    "save_annotations(tortus, output_path)\n",
    "tortus.annotations"
   ]
  },
  {
   "cell_type": "code",
   "execution_count": null,
   "id": "98e32405",
   "metadata": {},
   "outputs": [],
   "source": []
  }
 ],
 "metadata": {
  "kernelspec": {
   "display_name": "Python 3 (ipykernel)",
   "language": "python",
   "name": "python3"
  },
  "language_info": {
   "codemirror_mode": {
    "name": "ipython",
    "version": 3
   },
   "file_extension": ".py",
   "mimetype": "text/x-python",
   "name": "python",
   "nbconvert_exporter": "python",
   "pygments_lexer": "ipython3",
   "version": "3.10.0"
  }
 },
 "nbformat": 4,
 "nbformat_minor": 5
}
