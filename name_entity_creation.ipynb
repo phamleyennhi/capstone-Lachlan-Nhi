{
 "cells": [
  {
   "cell_type": "code",
   "execution_count": 14,
   "id": "4b9d19ca",
   "metadata": {},
   "outputs": [
    {
     "data": {
      "text/plain": [
       "9223372036854775807"
      ]
     },
     "execution_count": 14,
     "metadata": {},
     "output_type": "execute_result"
    }
   ],
   "source": [
    "import pandas as pd\n",
    "import nltk\n",
    "import csv\n",
    "import sys\n",
    "import os\n",
    "import string\n",
    "from nltk.sem import chat80\n",
    "from nltk.corpus.util import LazyCorpusLoader\n",
    "from nltk.corpus.reader import *\n",
    "\n",
    "csv.field_size_limit(sys.maxsize)"
   ]
  },
  {
   "cell_type": "markdown",
   "id": "95e79895",
   "metadata": {},
   "source": [
    "## Collect and preprocess existing Name Entity corpus\n",
    "#### (Run once to save to CSV) (http://www.nltk.org/nltk_data/)\n",
    "\n",
    "1. CONLL 2002 Named Entity Recognition Corpus: concentrate on four types of named entities: persons, locations, organizations and names of miscellaneous entities that do not belong to the previous three groups. "
   ]
  },
  {
   "cell_type": "code",
   "execution_count": 11,
   "id": "9e122fe4",
   "metadata": {},
   "outputs": [
    {
     "name": "stderr",
     "output_type": "stream",
     "text": [
      "[nltk_data] Downloading package conll2002 to\n",
      "[nltk_data]     /Users/nhipham/nltk_data...\n",
      "[nltk_data]   Package conll2002 is already up-to-date!\n"
     ]
    },
    {
     "name": "stdout",
     "output_type": "stream",
     "text": [
      "54711\n"
     ]
    },
    {
     "data": {
      "text/plain": [
       "536735"
      ]
     },
     "execution_count": 11,
     "metadata": {},
     "output_type": "execute_result"
    }
   ],
   "source": [
    "nltk.download(\"conll2002\")\n",
    "conll2002 = LazyCorpusLoader(\n",
    "    \"conll2002\",\n",
    "    ConllChunkCorpusReader,\n",
    "    r\".*\\.(test|train).*\",\n",
    "    (\"LOC\", \"PER\", \"ORG\", \"MISC\"),\n",
    "    encoding=\"utf-8\",\n",
    ")\n",
    "\n",
    "lowercase_conll2002 = list(map(str.lower, conll2002.words()))\n",
    "processed_conll2002 = set()\n",
    "\n",
    "# filter non-english words\n",
    "punctuation = list(string.punctuation)\n",
    "punctuation.remove('-')\n",
    "for word in lowercase_conll2002:\n",
    "    add_word = True\n",
    "    for p in punctuation:\n",
    "        if p in word:\n",
    "            add_word = False\n",
    "    for w in word:\n",
    "        if w.isdigit():\n",
    "            add_word = False\n",
    "    if word == '' or word[-1] == '-':\n",
    "        add_word = False\n",
    "    if add_word:\n",
    "        processed_conll2002.add(word)\n",
    "\n",
    "cw = csv.writer(open(\"name_entity_corpora/conll2002.csv\",\"w\"))\n",
    "cw.writerow(processed_conll2002)"
   ]
  },
  {
   "cell_type": "code",
   "execution_count": 22,
   "id": "6b1eb897",
   "metadata": {},
   "outputs": [
    {
     "data": {
      "text/plain": [
       "536735"
      ]
     },
     "execution_count": 22,
     "metadata": {},
     "output_type": "execute_result"
    }
   ],
   "source": [
    "files = os.listdir('name_entity_corpora/')\n",
    "if '.ipynb_checkpoints' in files:\n",
    "    files.remove('.ipynb_checkpoints')\n",
    "ne_corpus = set()\n",
    "\n",
    "for file in files:\n",
    "    with open(f\"name_entity_corpora/{file}\", \"r\") as read_obj:\n",
    "        csv_reader = csv.reader(read_obj)\n",
    "        list_of_words = list(csv_reader)\n",
    "        ne_corpus.update(list_of_words[0])\n",
    "cw = csv.writer(open(\"name_entity_corpora/name_entity_corpus.csv\",\"w\"))\n",
    "cw.writerow(ne_corpus)  "
   ]
  },
  {
   "cell_type": "code",
   "execution_count": null,
   "id": "b253a747",
   "metadata": {},
   "outputs": [],
   "source": []
  }
 ],
 "metadata": {
  "kernelspec": {
   "display_name": "Python 3",
   "language": "python",
   "name": "python3"
  },
  "language_info": {
   "codemirror_mode": {
    "name": "ipython",
    "version": 3
   },
   "file_extension": ".py",
   "mimetype": "text/x-python",
   "name": "python",
   "nbconvert_exporter": "python",
   "pygments_lexer": "ipython3",
   "version": "3.8.8"
  }
 },
 "nbformat": 4,
 "nbformat_minor": 5
}
