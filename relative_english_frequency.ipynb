{
 "cells": [
  {
   "cell_type": "code",
   "execution_count": null,
   "id": "64bfc2df",
   "metadata": {},
   "outputs": [],
   "source": [
    "import os\n",
    "def create_relative_english_frequency_col(df):\n",
    "    def calculate_relative_frequency(content):\n",
    "        english_word_bools = [lemmatizer.lemmatize(word) in english_words_set for word in str(content).split() if word.isalpha()]\n",
    "        if not english_word_bools:\n",
    "            return 0\n",
    "        return english_word_bools.count(True)/len(english_word_bools) \n",
    "    df[\"english_relative_frequency\"] = df.cleaned_content.apply(calculate_relative_frequency)\n",
    "    return df\n",
    "\n",
    "def filter_by_english_thresholds(min_thresh, max_thresh, original_dataset, create_file = False):\n",
    "    output_dir = os.path.splitext(original_dataset)[0]\n",
    "    if not os.path.exists(output_dir):\n",
    "        os.makedirs(output_dir)\n",
    "        \n",
    "    with open(original_dataset, \"r\") as infile:\n",
    "        source_df = pd.read_csv(infile)\n",
    "        out_df = create_relative_english_frequency_col(source_df)\n",
    "        out_df = out_df[(min_thresh <= out_df[\"english_relative_frequency\"]) & (out_df[\"english_relative_frequency\"] < max_thresh)]\n",
    "    \n",
    "    if create_file: \n",
    "        with open(output_dir + f\"/{min_thresh}_to_{max_thresh}_english_words.csv\", \"w\") as outfile:\n",
    "            outfile.write(out_df.to_csv())\n",
    "            \n",
    "    return out_df"
   ]
  },
  {
   "cell_type": "code",
   "execution_count": null,
   "id": "7b0a643a",
   "metadata": {},
   "outputs": [],
   "source": [
    "for i in range(10):\n",
    "    filter_by_english_thresholds(i/10, (i+1)/10, \"data/Singapore/tweets_over_period/24400_tweets_over_period.csv\", create_file = True)\n",
    "filter_by_english_thresholds(1, 1.01, \"data/Singapore/tweets_over_period/24400_tweets_over_period.csv\")"
   ]
  }
 ],
 "metadata": {
  "kernelspec": {
   "display_name": "Python 3",
   "language": "python",
   "name": "python3"
  },
  "language_info": {
   "codemirror_mode": {
    "name": "ipython",
    "version": 3
   },
   "file_extension": ".py",
   "mimetype": "text/x-python",
   "name": "python",
   "nbconvert_exporter": "python",
   "pygments_lexer": "ipython3",
   "version": "3.8.8"
  }
 },
 "nbformat": 4,
 "nbformat_minor": 5
}
