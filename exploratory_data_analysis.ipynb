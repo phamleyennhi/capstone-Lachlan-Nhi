{
 "cells": [
  {
   "cell_type": "code",
   "execution_count": 2,
   "id": "aa6a67b0",
   "metadata": {},
   "outputs": [],
   "source": [
    "import csv\n",
    "import os\n",
    "from nltk.stem import WordNetLemmatizer"
   ]
  },
  {
   "cell_type": "code",
   "execution_count": 3,
   "id": "ede4f437",
   "metadata": {},
   "outputs": [],
   "source": [
    "lemmatizer = WordNetLemmatizer()\n",
    "english_words_list = []\n",
    "\n",
    "with open('english_words_corpora/english_corpus.csv', 'r') as read_obj:\n",
    "    csv_reader = csv.reader(read_obj)\n",
    "    list_of_csv = list(csv_reader)\n",
    "    english_words_list = list_of_csv[0]      \n",
    "english_words_set = set(english_words_list)"
   ]
  },
  {
   "cell_type": "code",
   "execution_count": 5,
   "id": "220d97f8",
   "metadata": {},
   "outputs": [],
   "source": [
    "def write_to_csv(file_name, list_words):\n",
    "    with open(f\"{file_name}.csv\", 'w', encoding='UTF8', newline='\\n') as f:\n",
    "        writer = csv.writer(f)\n",
    "        writer.writerow([\"word\", \"frequency\"])\n",
    "        for tup in list_words:\n",
    "            writer.writerow(list(tup))"
   ]
  },
  {
   "cell_type": "code",
   "execution_count": 4,
   "id": "7c8ee403",
   "metadata": {},
   "outputs": [],
   "source": [
    "def generate_word_corpus(filename):\n",
    "    corpus = []\n",
    "    with open(filename) as file:\n",
    "        csvreader = csv.reader(file)\n",
    "        next(csvreader)\n",
    "        for row in csvreader:\n",
    "            if len(row) > 3:\n",
    "                all_words_in_sentence = row[3].strip().split(\" \")\n",
    "                corpus += all_words_in_sentence\n",
    "    return corpus\n",
    "\n",
    "\n",
    "def generate_word_frequency(city, approach, corpus):\n",
    "    counter=Counter(corpus)\n",
    "    most=counter.most_common()\n",
    "    write_to_csv(f\"data/{city}/{approach}_topMostFrequentWords\", most[:100])\n",
    "    write_to_csv(f\"data/{city}/{approach}_topLeastFrequentWords\", most[-100::])\n",
    "    \n",
    "    # non-English words\n",
    "    non_english_words = []\n",
    "    for tup in most:\n",
    "        if (lemmatizer.lemmatize(tup[0]) not in english_words_set and tup[0].isnumeric() == False):\n",
    "            non_english_words.append(tup)\n",
    "    write_to_csv(f\"data/{city}/{approach}_nonEnglishWords\", non_english_words)\n",
    "\n",
    "    \n",
    "def average_sentence_length(city):\n",
    "    total_length = 0\n",
    "    count = 0\n",
    "    with open(f\"data/{city}.csv\") as file:\n",
    "        csvreader = csv.reader(file)\n",
    "        next(csvreader)\n",
    "        for row in csvreader:\n",
    "            if len(row) > 3:\n",
    "                all_words_in_sentence = row[3].split(\" \")\n",
    "                total_length += len(all_words_in_sentence)\n",
    "                count += 1\n",
    "    print(\"Average sentence length:\", total_length/count)"
   ]
  },
  {
   "cell_type": "code",
   "execution_count": null,
   "id": "f1ccab22",
   "metadata": {},
   "outputs": [],
   "source": [
    "# generate 3000 most recent tweets & analysis\n",
    "singlish_most_recent_tweets_corpus = generate_word_corpus(\"data/Singapore/GenerateMostRecentTweets/3000_most_recent_tweets.csv\")\n",
    "generate_word_frequency(\"Singapore\", \"GenerateMostRecentTweets/3000_most_recent_tweets\", singlish_most_recent_tweets_corpus)"
   ]
  },
  {
   "cell_type": "code",
   "execution_count": null,
   "id": "6c169ac8",
   "metadata": {},
   "outputs": [],
   "source": [
    "# run once, generate cleaned tweets separately for 2nd approach to reduce wait time\n",
    "df = pd.read_csv('data/Singapore/GenerateTweetsOverAPeriod/24400_tweets_over_period.csv', index_col=0)\n",
    "df['cleaned_content'] = [clean_tweet(i) for i in df['rawContent']]\n",
    "df.to_csv(f\"data/Singapore/GenerateTweetsOverAPeriod/24400_cleaned_tweets_over_period.csv\")"
   ]
  },
  {
   "cell_type": "code",
   "execution_count": null,
   "id": "2e2729f1",
   "metadata": {},
   "outputs": [],
   "source": [
    "# generate analysis for tweets over period 2022-01-01 and 2022-09-01\n",
    "singlish_over_period_tweets_corpus = generate_word_corpus(f\"data/Singapore/GenerateTweetsOverAPeriod/{100*len(data_collection_period)}_cleaned_tweets_over_period.csv\")\n",
    "generate_word_frequency(\"Singapore\", f\"GenerateTweetsOverAPeriod/{100*len(data_collection_period)}_cleaned_tweets_over_period\", singlish_over_period_tweets_corpus)"
   ]
  }
 ],
 "metadata": {
  "kernelspec": {
   "display_name": "Python 3",
   "language": "python",
   "name": "python3"
  },
  "language_info": {
   "codemirror_mode": {
    "name": "ipython",
    "version": 3
   },
   "file_extension": ".py",
   "mimetype": "text/x-python",
   "name": "python",
   "nbconvert_exporter": "python",
   "pygments_lexer": "ipython3",
   "version": "3.8.8"
  }
 },
 "nbformat": 4,
 "nbformat_minor": 5
}
