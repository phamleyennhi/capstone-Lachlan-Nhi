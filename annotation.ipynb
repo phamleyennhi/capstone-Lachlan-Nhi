{
 "cells": [
  {
   "cell_type": "code",
   "execution_count": 2,
   "id": "b5981dc6",
   "metadata": {},
   "outputs": [
    {
     "data": {
      "application/vnd.jupyter.widget-view+json": {
       "model_id": "dcf8ad6399e54d0185f6a5c43e446f11",
       "version_major": 2,
       "version_minor": 0
      },
      "text/plain": [
       "Image(value=b'\\x89PNG\\r\\n\\x1a\\n\\x00\\x00\\x00\\rIHDR\\x00\\x00#0\\x00\\x00\\x06\\xc4\\x08\\x06\\x00\\x00\\x00\\xa5\\xaf~d\\x00\\…"
      ]
     },
     "metadata": {},
     "output_type": "display_data"
    },
    {
     "data": {
      "application/vnd.jupyter.widget-view+json": {
       "model_id": "cd601cd878634077a5601a621a492c81",
       "version_major": 2,
       "version_minor": 0
      },
      "text/plain": [
       "HTML(value=\"<h2 style='text-align:center'>        easy text annotation in a Jupyter Notebook</h2>\")"
      ]
     },
     "metadata": {},
     "output_type": "display_data"
    }
   ],
   "source": [
    "from tortus import Tortus\n",
    "import pandas as pd\n",
    "import os"
   ]
  },
  {
   "cell_type": "code",
   "execution_count": 21,
   "id": "a2153fdf",
   "metadata": {},
   "outputs": [],
   "source": [
    "def annotate_tweets(path, text_column = \"cleaned_content\", num_records=100, prev_annotations = None, additional_labels = []):\n",
    "    df = pd.read_csv(path)\n",
    "    df[text_column] = \"Raw: \" + df[\"rawContent\"] + \"\\nClean: \" + df[text_column]\n",
    "    output_path = f\"{os.path.splitext(path)[0]}_annotations.csv\"\n",
    "    if os.path.exists(output_path):\n",
    "        print(f\"Annotations already exist for: {output_path}, adding to these annotations\")\n",
    "        prev_annotations = pd.read_csv(output_path, index_col = \"Unnamed: 0\")\n",
    "    tortus = Tortus(df, text_column, num_records=num_records, annotations=prev_annotations, labels=[\"standard_english\", \"not_standard_english\", \"not_english\", \"code-switched\"] + additional_labels)\n",
    "    tortus.annotate()\n",
    "    return tortus, output_path\n",
    "\n",
    "def save_annotations(tortus, output_path):\n",
    "    tortus.annotations.to_csv(output_path)\n"
   ]
  },
  {
   "cell_type": "code",
   "execution_count": 22,
   "id": "5d07e1a1",
   "metadata": {
    "scrolled": true
   },
   "outputs": [
    {
     "name": "stdout",
     "output_type": "stream",
     "text": [
      "Annotations already exist for: data/Singapore/GenerateMostRecentTweets/3000_most_recent_tweets/0.5_to_0.6_english_words_annotations.csv, adding to these annotations\n"
     ]
    },
    {
     "data": {
      "application/vnd.jupyter.widget-view+json": {
       "model_id": "6aa7e4dfea544b519a91244de6a28471",
       "version_major": 2,
       "version_minor": 0
      },
      "text/plain": [
       "HBox(children=(Image(value=b'\\x89PNG\\r\\n\\x1a\\n\\x00\\x00\\x00\\rIHDR\\x00\\x00#0\\x00\\x00\\x06\\xc4\\x08\\x06\\x00\\x00\\x00…"
      ]
     },
     "metadata": {},
     "output_type": "display_data"
    },
    {
     "data": {
      "application/vnd.jupyter.widget-view+json": {
       "model_id": "c6e7e7993f904ad5952996b78fda529d",
       "version_major": 2,
       "version_minor": 0
      },
      "text/plain": [
       "HTML(value='Click on the label corresponding with the text below. Each selection requires                 conf…"
      ]
     },
     "metadata": {},
     "output_type": "display_data"
    },
    {
     "data": {
      "application/vnd.jupyter.widget-view+json": {
       "model_id": "387377817f2c4ccab6f595cfaed93538",
       "version_major": 2,
       "version_minor": 0
      },
      "text/plain": [
       "HTML(value='<h4>Raw: Hello singapore https://t.co/VpER6DV6Rm\\nClean: hello singapore</h4>')"
      ]
     },
     "metadata": {},
     "output_type": "display_data"
    },
    {
     "data": {
      "application/vnd.jupyter.widget-view+json": {
       "model_id": "e0c08910f79747419d276cfea32e05ed",
       "version_major": 2,
       "version_minor": 0
      },
      "text/plain": [
       "GridBox(children=(VBox(children=(Box(children=(Button(description='standard_english', layout=Layout(border_bot…"
      ]
     },
     "metadata": {},
     "output_type": "display_data"
    },
    {
     "data": {
      "application/vnd.jupyter.widget-view+json": {
       "model_id": "f3696e7a94db45d8ba53f9c592297bcb",
       "version_major": 2,
       "version_minor": 0
      },
      "text/plain": [
       "Output()"
      ]
     },
     "metadata": {},
     "output_type": "display_data"
    }
   ],
   "source": [
    "tortus, output_path = annotate_tweets(\"data/Singapore/GenerateMostRecentTweets/3000_most_recent_tweets/0.5_to_0.6_english_words.csv\", num_records = 10)"
   ]
  },
  {
   "cell_type": "code",
   "execution_count": 20,
   "id": "e117cb23",
   "metadata": {},
   "outputs": [
    {
     "data": {
      "text/html": [
       "<div>\n",
       "<style scoped>\n",
       "    .dataframe tbody tr th:only-of-type {\n",
       "        vertical-align: middle;\n",
       "    }\n",
       "\n",
       "    .dataframe tbody tr th {\n",
       "        vertical-align: top;\n",
       "    }\n",
       "\n",
       "    .dataframe thead th {\n",
       "        text-align: right;\n",
       "    }\n",
       "</style>\n",
       "<table border=\"1\" class=\"dataframe\">\n",
       "  <thead>\n",
       "    <tr style=\"text-align: right;\">\n",
       "      <th></th>\n",
       "      <th>id_column</th>\n",
       "      <th>cleaned_content</th>\n",
       "      <th>label</th>\n",
       "      <th>annotated_at</th>\n",
       "    </tr>\n",
       "  </thead>\n",
       "  <tbody>\n",
       "    <tr>\n",
       "      <th>0</th>\n",
       "      <td>30</td>\n",
       "      <td>Raw: @iz2709 Ni lawa\\nClean: ni lawa</td>\n",
       "      <td>not_english</td>\n",
       "      <td>2022-10-04 16:01:47</td>\n",
       "    </tr>\n",
       "    <tr>\n",
       "      <th>1</th>\n",
       "      <td>32</td>\n",
       "      <td>Raw: @SuperRoStar Mira, mira... Te lo dedico a...</td>\n",
       "      <td>not_english</td>\n",
       "      <td>2022-10-04 16:01:53</td>\n",
       "    </tr>\n",
       "    <tr>\n",
       "      <th>2</th>\n",
       "      <td>121</td>\n",
       "      <td>Raw: WTS SEVENTEEN MINGYU DOLL \\nPrice 150k\\nD...</td>\n",
       "      <td>not_standard_english</td>\n",
       "      <td>2022-10-04 16:02:04</td>\n",
       "    </tr>\n",
       "    <tr>\n",
       "      <th>3</th>\n",
       "      <td>134</td>\n",
       "      <td>Raw: @editor_abdulbr0 @foundation Thanks bro 🤍...</td>\n",
       "      <td>not_standard_english</td>\n",
       "      <td>2022-10-04 16:02:07</td>\n",
       "    </tr>\n",
       "    <tr>\n",
       "      <th>4</th>\n",
       "      <td>183</td>\n",
       "      <td>Raw: Joffrey Targaryen? Dang dat boy be ded ne...</td>\n",
       "      <td>not_standard_english</td>\n",
       "      <td>2022-10-04 16:02:12</td>\n",
       "    </tr>\n",
       "    <tr>\n",
       "      <th>5</th>\n",
       "      <td>138</td>\n",
       "      <td>Raw: @acidjunk No wayyyyy....🤯🤯🤯\\nClean: no wa...</td>\n",
       "      <td>not_standard_english</td>\n",
       "      <td>2022-10-04 16:02:15</td>\n",
       "    </tr>\n",
       "    <tr>\n",
       "      <th>6</th>\n",
       "      <td>49</td>\n",
       "      <td>Raw: @ItsPriddyUgly Ngwaneso, o shape Dayi man...</td>\n",
       "      <td>not_english</td>\n",
       "      <td>2022-10-04 16:02:21</td>\n",
       "    </tr>\n",
       "    <tr>\n",
       "      <th>7</th>\n",
       "      <td>181</td>\n",
       "      <td>Raw: @eqbaliv_ @ulat_bulu_bulu me rn 😡\\nClean:...</td>\n",
       "      <td>not_standard_english</td>\n",
       "      <td>2022-10-04 16:02:23</td>\n",
       "    </tr>\n",
       "    <tr>\n",
       "      <th>8</th>\n",
       "      <td>26</td>\n",
       "      <td>Raw: @Jairam_Ramesh Why #INCIndia still talkin...</td>\n",
       "      <td>not_standard_english</td>\n",
       "      <td>2022-10-04 16:02:28</td>\n",
       "    </tr>\n",
       "    <tr>\n",
       "      <th>9</th>\n",
       "      <td>18</td>\n",
       "      <td>Raw: Bodoamat dah .\\nClean: bodoamat dah</td>\n",
       "      <td>not_english</td>\n",
       "      <td>2022-10-04 16:02:33</td>\n",
       "    </tr>\n",
       "  </tbody>\n",
       "</table>\n",
       "</div>"
      ],
      "text/plain": [
       "  id_column                                    cleaned_content  \\\n",
       "0        30               Raw: @iz2709 Ni lawa\\nClean: ni lawa   \n",
       "1        32  Raw: @SuperRoStar Mira, mira... Te lo dedico a...   \n",
       "2       121  Raw: WTS SEVENTEEN MINGYU DOLL \\nPrice 150k\\nD...   \n",
       "3       134  Raw: @editor_abdulbr0 @foundation Thanks bro 🤍...   \n",
       "4       183  Raw: Joffrey Targaryen? Dang dat boy be ded ne...   \n",
       "5       138  Raw: @acidjunk No wayyyyy....🤯🤯🤯\\nClean: no wa...   \n",
       "6        49  Raw: @ItsPriddyUgly Ngwaneso, o shape Dayi man...   \n",
       "7       181  Raw: @eqbaliv_ @ulat_bulu_bulu me rn 😡\\nClean:...   \n",
       "8        26  Raw: @Jairam_Ramesh Why #INCIndia still talkin...   \n",
       "9        18           Raw: Bodoamat dah .\\nClean: bodoamat dah   \n",
       "\n",
       "                  label        annotated_at  \n",
       "0           not_english 2022-10-04 16:01:47  \n",
       "1           not_english 2022-10-04 16:01:53  \n",
       "2  not_standard_english 2022-10-04 16:02:04  \n",
       "3  not_standard_english 2022-10-04 16:02:07  \n",
       "4  not_standard_english 2022-10-04 16:02:12  \n",
       "5  not_standard_english 2022-10-04 16:02:15  \n",
       "6           not_english 2022-10-04 16:02:21  \n",
       "7  not_standard_english 2022-10-04 16:02:23  \n",
       "8  not_standard_english 2022-10-04 16:02:28  \n",
       "9           not_english 2022-10-04 16:02:33  "
      ]
     },
     "execution_count": 20,
     "metadata": {},
     "output_type": "execute_result"
    }
   ],
   "source": [
    "save_annotations(tortus, output_path)\n",
    "tortus.annotations"
   ]
  },
  {
   "cell_type": "code",
   "execution_count": 76,
   "id": "8facceec",
   "metadata": {},
   "outputs": [
    {
     "data": {
      "text/html": [
       "<div>\n",
       "<style scoped>\n",
       "    .dataframe tbody tr th:only-of-type {\n",
       "        vertical-align: middle;\n",
       "    }\n",
       "\n",
       "    .dataframe tbody tr th {\n",
       "        vertical-align: top;\n",
       "    }\n",
       "\n",
       "    .dataframe thead th {\n",
       "        text-align: right;\n",
       "    }\n",
       "</style>\n",
       "<table border=\"1\" class=\"dataframe\">\n",
       "  <thead>\n",
       "    <tr style=\"text-align: right;\">\n",
       "      <th></th>\n",
       "      <th>Unnamed: 0</th>\n",
       "      <th>cleaned_content</th>\n",
       "      <th>label</th>\n",
       "      <th>annotated_at</th>\n",
       "    </tr>\n",
       "    <tr>\n",
       "      <th>id_column</th>\n",
       "      <th></th>\n",
       "      <th></th>\n",
       "      <th></th>\n",
       "      <th></th>\n",
       "    </tr>\n",
       "  </thead>\n",
       "  <tbody>\n",
       "    <tr>\n",
       "      <th>68</th>\n",
       "      <td>0</td>\n",
       "      <td>alles autos credit ad 2 colour copyrighted amp...</td>\n",
       "      <td>standard_english</td>\n",
       "      <td>2022-10-03 17:02:22</td>\n",
       "    </tr>\n",
       "    <tr>\n",
       "      <th>1</th>\n",
       "      <td>1</td>\n",
       "      <td>paling best texture dia cair macam toner tapi ...</td>\n",
       "      <td>not_english</td>\n",
       "      <td>2022-10-03 17:02:25</td>\n",
       "    </tr>\n",
       "    <tr>\n",
       "      <th>26</th>\n",
       "      <td>2</td>\n",
       "      <td>tak gak amik yang kiwi passionfruit guava tu s...</td>\n",
       "      <td>not_english</td>\n",
       "      <td>2022-10-03 17:02:26</td>\n",
       "    </tr>\n",
       "    <tr>\n",
       "      <th>13</th>\n",
       "      <td>40</td>\n",
       "      <td>poling jebakan yang paling gak pantas katanya</td>\n",
       "      <td>not_english</td>\n",
       "      <td>2022-10-03 17:03:08</td>\n",
       "    </tr>\n",
       "    <tr>\n",
       "      <th>61</th>\n",
       "      <td>4</td>\n",
       "      <td>hmm nike tak nk supply boot kat aliksan dgn sp...</td>\n",
       "      <td>not_english</td>\n",
       "      <td>2022-10-03 17:02:30</td>\n",
       "    </tr>\n",
       "    <tr>\n",
       "      <th>48</th>\n",
       "      <td>5</td>\n",
       "      <td>arghh nak nangis nak top 5 dapat top 4 jomm ki...</td>\n",
       "      <td>not_english</td>\n",
       "      <td>2022-10-03 17:02:32</td>\n",
       "    </tr>\n",
       "    <tr>\n",
       "      <th>29</th>\n",
       "      <td>6</td>\n",
       "      <td>sb se pehly tmhain doob k mar jana chaiye bc</td>\n",
       "      <td>not_english</td>\n",
       "      <td>2022-10-03 17:02:34</td>\n",
       "    </tr>\n",
       "    <tr>\n",
       "      <th>36</th>\n",
       "      <td>7</td>\n",
       "      <td>hyderabadi humour uno cycle chalate chalate pa...</td>\n",
       "      <td>not_english</td>\n",
       "      <td>2022-10-03 17:02:36</td>\n",
       "    </tr>\n",
       "    <tr>\n",
       "      <th>60</th>\n",
       "      <td>8</td>\n",
       "      <td>dipimpin nagita slavina inilah profil es teh i...</td>\n",
       "      <td>not_english</td>\n",
       "      <td>2022-10-03 17:02:38</td>\n",
       "    </tr>\n",
       "    <tr>\n",
       "      <th>46</th>\n",
       "      <td>9</td>\n",
       "      <td>apa yg salah ku pun tak tau</td>\n",
       "      <td>not_english</td>\n",
       "      <td>2022-10-03 17:02:40</td>\n",
       "    </tr>\n",
       "    <tr>\n",
       "      <th>10</th>\n",
       "      <td>23</td>\n",
       "      <td>imagine tempat dia tu sebenarnya boleh je bagi...</td>\n",
       "      <td>not_english</td>\n",
       "      <td>2022-10-03 17:02:49</td>\n",
       "    </tr>\n",
       "    <tr>\n",
       "      <th>11</th>\n",
       "      <td>62</td>\n",
       "      <td>soalan serius possible tak kalau swap rumah dl...</td>\n",
       "      <td>not_english</td>\n",
       "      <td>2022-10-03 17:02:51</td>\n",
       "    </tr>\n",
       "    <tr>\n",
       "      <th>12</th>\n",
       "      <td>20</td>\n",
       "      <td>kalau bukan lagi lah smh hahahahaha it better ...</td>\n",
       "      <td>not_english</td>\n",
       "      <td>2022-10-03 17:02:53</td>\n",
       "    </tr>\n",
       "  </tbody>\n",
       "</table>\n",
       "</div>"
      ],
      "text/plain": [
       "           Unnamed: 0                                    cleaned_content  \\\n",
       "id_column                                                                  \n",
       "68                  0  alles autos credit ad 2 colour copyrighted amp...   \n",
       "1                   1  paling best texture dia cair macam toner tapi ...   \n",
       "26                  2  tak gak amik yang kiwi passionfruit guava tu s...   \n",
       "13                 40      poling jebakan yang paling gak pantas katanya   \n",
       "61                  4  hmm nike tak nk supply boot kat aliksan dgn sp...   \n",
       "48                  5  arghh nak nangis nak top 5 dapat top 4 jomm ki...   \n",
       "29                  6       sb se pehly tmhain doob k mar jana chaiye bc   \n",
       "36                  7  hyderabadi humour uno cycle chalate chalate pa...   \n",
       "60                  8  dipimpin nagita slavina inilah profil es teh i...   \n",
       "46                  9                        apa yg salah ku pun tak tau   \n",
       "10                 23  imagine tempat dia tu sebenarnya boleh je bagi...   \n",
       "11                 62  soalan serius possible tak kalau swap rumah dl...   \n",
       "12                 20  kalau bukan lagi lah smh hahahahaha it better ...   \n",
       "\n",
       "                      label         annotated_at  \n",
       "id_column                                         \n",
       "68         standard_english  2022-10-03 17:02:22  \n",
       "1               not_english  2022-10-03 17:02:25  \n",
       "26              not_english  2022-10-03 17:02:26  \n",
       "13              not_english  2022-10-03 17:03:08  \n",
       "61              not_english  2022-10-03 17:02:30  \n",
       "48              not_english  2022-10-03 17:02:32  \n",
       "29              not_english  2022-10-03 17:02:34  \n",
       "36              not_english  2022-10-03 17:02:36  \n",
       "60              not_english  2022-10-03 17:02:38  \n",
       "46              not_english  2022-10-03 17:02:40  \n",
       "10              not_english  2022-10-03 17:02:49  \n",
       "11              not_english  2022-10-03 17:02:51  \n",
       "12              not_english  2022-10-03 17:02:53  "
      ]
     },
     "execution_count": 76,
     "metadata": {},
     "output_type": "execute_result"
    }
   ],
   "source": [
    "tortus.annotations"
   ]
  },
  {
   "cell_type": "code",
   "execution_count": null,
   "id": "63e1561d",
   "metadata": {},
   "outputs": [],
   "source": []
  }
 ],
 "metadata": {
  "kernelspec": {
   "display_name": "Python 3 (ipykernel)",
   "language": "python",
   "name": "python3"
  },
  "language_info": {
   "codemirror_mode": {
    "name": "ipython",
    "version": 3
   },
   "file_extension": ".py",
   "mimetype": "text/x-python",
   "name": "python",
   "nbconvert_exporter": "python",
   "pygments_lexer": "ipython3",
   "version": "3.10.0"
  }
 },
 "nbformat": 4,
 "nbformat_minor": 5
}
